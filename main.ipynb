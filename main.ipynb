{
 "cells": [
  {
   "cell_type": "markdown",
   "id": "86d90099",
   "metadata": {},
   "source": [
    "<font color=blue>\n",
    "<b>Полезные ссылки:</b> по анализу текстов:\n",
    "    \n",
    "Основы Natural Language Processing для текста  — https://habr.com/ru/company/Voximplant/blog/446738/\n",
    "    \n",
    "Интересная статья в общем по NLP — https://habr.com/ru/company/oleg-bunin/blog/352614/\n",
    "    \n",
    "BERT, ELMO и Ко в картинках (как в NLP пришло трансферное обучение) — https://habr.com/ru/post/487358/\n",
    "    \n",
    "В частности, BERT является довольно популярной моделью. Вот еще информация по этой модели:\n",
    "    \n",
    "https://habr.com/ru/post/436878/\n",
    "    \n",
    "http://jalammar.github.io/illustrated-bert/; https://huggingface.co/docs/transformers/model_doc/bert\n",
    "    \n",
    "И другие ссылки: \n",
    "    \n",
    "http://jalammar.github.io/illustrated-word2vec/\n",
    "    \n",
    "https://colah.github.io/posts/2015-08-Understanding-LSTMs/\n",
    "    \n",
    "http://jalammar.github.io/illustrated-transformer/\n",
    "    \n",
    "https://colab.research.google.com/drive/1SBha91u6142pW5mSiQOOjJWCCSAFj4HI?usp=sharing    \n",
    " \n",
    "</font>"
   ]
  },
  {
   "cell_type": "markdown",
   "id": "7b003554",
   "metadata": {},
   "source": [
    "<h1>Contents<span class=\"tocSkip\"></span></h1>\n",
    "<div class=\"toc\"><ul class=\"toc-item\"><li><span><a href=\"#Подготовка\" data-toc-modified-id=\"Подготовка-1\"><span class=\"toc-item-num\">1&nbsp;&nbsp;</span>Dara Loading and Preprocessing</a></span></li><li><span><a href=\"#Обучение\" data-toc-modified-id=\"Обучение-2\"><span class=\"toc-item-num\">2&nbsp;&nbsp;</span>Training</a></span></li><li><span><a href=\"#Выводы\" data-toc-modified-id=\"Выводы-3\"><span class=\"toc-item-num\">3&nbsp;&nbsp;</span>Conclustions</a></span></li><li><span><a href=\"#Чек-лист-проверки\" data-toc-modified-id=\"Чек-лист-проверки-4\"><span class=\"toc-item-num\">4&nbsp;&nbsp;</span>Чек-лист проверки</a></span></li></ul></div>"
   ]
  },
  {
   "cell_type": "markdown",
   "id": "8d0eb7e0",
   "metadata": {},
   "source": [
    "# 01 - ***ML for Texts*** - Project for WikiShop\n",
    "\n",
    "[Nice reading about BERT](https://docs.deeppavlov.ai/en/master/features/models/bert.html)\n",
    "\n",
    "BERT (Bidirectional Encoder Representations from Transformers) is a Transformer pre-trained on masked language model and next sentence prediction tasks. This approach showed state-of-the-art results on a wide range of NLP tasks in English."
   ]
  },
  {
   "cell_type": "markdown",
   "id": "dece3c66",
   "metadata": {},
   "source": [
    "### Project Goal\n",
    "The project goal is a binary text classification using BERT model.\n",
    "\n",
    "Интернет-магазин «Викишоп» запускает новый сервис. Теперь пользователи могут редактировать и дополнять описания товаров, как в вики-сообществах. То есть клиенты предлагают свои правки и комментируют изменения других. Магазину нужен инструмент, который будет искать токсичные комментарии и отправлять их на модерацию. \n",
    "\n",
    "Обучите модель классифицировать комментарии на позитивные и негативные. В вашем распоряжении набор данных с разметкой о токсичности правок.\n",
    "\n",
    "Постройте модель со значением метрики качества *F1* не меньше 0.75. \n",
    "\n",
    "**Инструкция по выполнению проекта**\n",
    "\n",
    "1. Загрузить и подготовить данные.\n",
    "2. Обучить разные модели. \n",
    "3. Сделать выводы.\n",
    "\n",
    "**Описание данных**\n",
    "\n",
    "Столбец *text* в нём содержит текст комментария, а *toxic* — целевой признак."
   ]
  },
  {
   "cell_type": "code",
   "execution_count": 72,
   "id": "7105cb30",
   "metadata": {},
   "outputs": [],
   "source": [
    "# 1 - импорты из стандартной библиотеки\n",
    "import lightgbm as lgb\n",
    "import matplotlib.pyplot as plt\n",
    "import seaborn as sns\n",
    "import nltk\n",
    "import numpy as np\n",
    "import pandas as pd\n",
    "import numpy as np\n",
    "import pandas as pd\n",
    "import re\n",
    "# import torch\n",
    "# import transformers\n",
    "import warnings\n",
    "\n",
    "# 2 - импорты сторонних библиотек\n",
    "from catboost import CatBoostClassifier\n",
    "from nltk.corpus import stopwords as nltk_stopwords\n",
    "from nltk.stem.wordnet import WordNetLemmatizer\n",
    "from sklearn.metrics import classification_report\n",
    "from sklearn.metrics import confusion_matrix\n",
    "from sklearn.metrics import f1_score\n",
    "from sklearn.metrics import make_scorer\n",
    "from sklearn.feature_extraction.text import CountVectorizer\n",
    "from sklearn.feature_extraction.text import TfidfVectorizer\n",
    "from sklearn.model_selection import train_test_split\n",
    "from sklearn.linear_model import LogisticRegression\n",
    "from sklearn.model_selection import GridSearchCV\n",
    "from sklearn.metrics import accuracy_score\n",
    "from sklearn.utils import shuffle\n",
    "from sklearn.model_selection import cross_val_score\n",
    "from tqdm import notebook\n",
    "from tqdm import tqdm\n",
    "\n",
    "# 3 - импорты модулей текущего проекта\n",
    "warnings.simplefilter(\"ignore\", category=RuntimeWarning)\n",
    "pd.options.mode.chained_assignment = None \n",
    "tqdm.pandas()"
   ]
  },
  {
   "cell_type": "markdown",
   "id": "a5e4141b",
   "metadata": {},
   "source": [
    "## Подготовка"
   ]
  },
  {
   "cell_type": "code",
   "execution_count": null,
   "id": "3c8f5969",
   "metadata": {
    "pycharm": {
     "is_executing": true
    }
   },
   "outputs": [],
   "source": [
    "# read the file handling exceptions\n",
    "try:\n",
    "    data = pd.read_csv(\"C:\\\\Users\\\\HOME\\\\PycharmProjects\\\\ZAF202301_NLP_ToxicCommentsClassification\\\\toxic_comments.csv\", index_col=[0])\n",
    "except FileNotFoundError:\n",
    "    data = pd.read_csv('/datasets/toxic_comments.csv', index_col=[0])"
   ]
  },
  {
   "cell_type": "code",
   "execution_count": 3,
   "id": "b0c5bcfe",
   "metadata": {},
   "outputs": [
    {
     "data": {
      "text/html": [
       "<div>\n",
       "<style scoped>\n",
       "    .dataframe tbody tr th:only-of-type {\n",
       "        vertical-align: middle;\n",
       "    }\n",
       "\n",
       "    .dataframe tbody tr th {\n",
       "        vertical-align: top;\n",
       "    }\n",
       "\n",
       "    .dataframe thead th {\n",
       "        text-align: right;\n",
       "    }\n",
       "</style>\n",
       "<table border=\"1\" class=\"dataframe\">\n",
       "  <thead>\n",
       "    <tr style=\"text-align: right;\">\n",
       "      <th></th>\n",
       "      <th>text</th>\n",
       "      <th>toxic</th>\n",
       "    </tr>\n",
       "  </thead>\n",
       "  <tbody>\n",
       "    <tr>\n",
       "      <th>0</th>\n",
       "      <td>Explanation\\nWhy the edits made under my usern...</td>\n",
       "      <td>0</td>\n",
       "    </tr>\n",
       "    <tr>\n",
       "      <th>1</th>\n",
       "      <td>D'aww! He matches this background colour I'm s...</td>\n",
       "      <td>0</td>\n",
       "    </tr>\n",
       "    <tr>\n",
       "      <th>2</th>\n",
       "      <td>Hey man, I'm really not trying to edit war. It...</td>\n",
       "      <td>0</td>\n",
       "    </tr>\n",
       "    <tr>\n",
       "      <th>3</th>\n",
       "      <td>\"\\nMore\\nI can't make any real suggestions on ...</td>\n",
       "      <td>0</td>\n",
       "    </tr>\n",
       "    <tr>\n",
       "      <th>4</th>\n",
       "      <td>You, sir, are my hero. Any chance you remember...</td>\n",
       "      <td>0</td>\n",
       "    </tr>\n",
       "  </tbody>\n",
       "</table>\n",
       "</div>"
      ],
      "text/plain": [
       "                                                text  toxic\n",
       "0  Explanation\\nWhy the edits made under my usern...      0\n",
       "1  D'aww! He matches this background colour I'm s...      0\n",
       "2  Hey man, I'm really not trying to edit war. It...      0\n",
       "3  \"\\nMore\\nI can't make any real suggestions on ...      0\n",
       "4  You, sir, are my hero. Any chance you remember...      0"
      ]
     },
     "execution_count": 3,
     "metadata": {},
     "output_type": "execute_result"
    }
   ],
   "source": [
    "data.head()"
   ]
  },
  {
   "cell_type": "code",
   "execution_count": 4,
   "id": "c11acab9",
   "metadata": {},
   "outputs": [
    {
     "data": {
      "text/plain": [
       "array([0, 1])"
      ]
     },
     "execution_count": 4,
     "metadata": {},
     "output_type": "execute_result"
    }
   ],
   "source": [
    "data.toxic.unique()"
   ]
  },
  {
   "cell_type": "code",
   "execution_count": 5,
   "id": "5a1d2240",
   "metadata": {
    "scrolled": true
   },
   "outputs": [
    {
     "data": {
      "text/plain": [
       "0"
      ]
     },
     "execution_count": 5,
     "metadata": {},
     "output_type": "execute_result"
    }
   ],
   "source": [
    "# проверка на пропуски в таргете\n",
    "data['toxic'].isna().sum()"
   ]
  },
  {
   "cell_type": "markdown",
   "id": "28db93ce",
   "metadata": {},
   "source": [
    "<div class=\"alert alert-warning\">\n",
    "<b>⚠️ Комментарий ревьювера:</b> Данные загружены успешно!\n",
    "    \n",
    "Желательно посмотреть на баланс классов в датасете.\n",
    "\n",
    "</div>"
   ]
  },
  {
   "cell_type": "markdown",
   "id": "69a3c0c4",
   "metadata": {},
   "source": [
    "### Проверка на дисбаланс таргета"
   ]
  },
  {
   "cell_type": "code",
   "execution_count": 6,
   "id": "d123e092",
   "metadata": {
    "scrolled": false
   },
   "outputs": [
    {
     "data": {
      "text/plain": [
       "0    143106\n",
       "1     16186\n",
       "Name: toxic, dtype: int64"
      ]
     },
     "execution_count": 6,
     "metadata": {},
     "output_type": "execute_result"
    }
   ],
   "source": [
    "data['toxic'].value_counts()"
   ]
  },
  {
   "cell_type": "markdown",
   "id": "6d4fe226",
   "metadata": {},
   "source": [
    "### ***Вывод:*** Видим, что таргет не сбалансирован. Это нужно учесть при подготовке обучающей выборки. Так как для наилучшего обучения модели целевое значение должно быть сбалансировано."
   ]
  },
  {
   "cell_type": "markdown",
   "id": "ecc0545c",
   "metadata": {},
   "source": [
    "<div class=\"alert alert-success\">\n",
    "<b>✔️ Комментарий ревьювера v2:</b> Правильно, что обращаешь внимание на дисбаланс классов!\n",
    "\n",
    "</div>"
   ]
  },
  {
   "cell_type": "markdown",
   "id": "b57e07c7",
   "metadata": {},
   "source": [
    "### Работаем со стоп-словами"
   ]
  },
  {
   "cell_type": "code",
   "execution_count": 7,
   "id": "958e3a1a",
   "metadata": {
    "scrolled": true
   },
   "outputs": [
    {
     "name": "stderr",
     "output_type": "stream",
     "text": [
      "[nltk_data] Downloading package stopwords to\n",
      "[nltk_data]     /Users/yuliabezginova/nltk_data...\n",
      "[nltk_data]   Package stopwords is already up-to-date!\n"
     ]
    }
   ],
   "source": [
    "nltk.download('stopwords')\n",
    "stopwords = set(nltk_stopwords.words('english'))"
   ]
  },
  {
   "cell_type": "markdown",
   "id": "a674949d",
   "metadata": {},
   "source": [
    "### Переведём тексты в стандартный для Python формат: кодировку Unicode U."
   ]
  },
  {
   "cell_type": "markdown",
   "id": "46c627b8",
   "metadata": {},
   "source": [
    "<div class=\"alert alert-danger\">\n",
    "<b>🚫 Комментарий ревьювера:</b> Нужно убрать преобразование в юникод, т.к. текст на английском языке — это не требуется и занимает дополнительное время.\n",
    "\n",
    "</div>"
   ]
  },
  {
   "cell_type": "code",
   "execution_count": 8,
   "id": "321cd929",
   "metadata": {},
   "outputs": [],
   "source": [
    "# Изменим кодировку методом astype():\n",
    "# corpus = data['text'].values.astype('U')\n",
    "# corpus_train = X_train.values.astype('U')\n",
    "# corpus_test = X_test.values.astype('U')"
   ]
  },
  {
   "cell_type": "markdown",
   "id": "0b596399",
   "metadata": {},
   "source": [
    "<div class=\"alert alert-info\"> <b>ℹ️ Yulia:</b> \n",
    "    \n",
    "Убрала.\n",
    "\n",
    "</div>"
   ]
  },
  {
   "cell_type": "markdown",
   "id": "f6e5cf90",
   "metadata": {},
   "source": [
    "<div class=\"alert alert-success\">\n",
    "<b>✔️ Комментарий ревьювера v2:</b> Хорошо\n",
    "\n",
    "</div>"
   ]
  },
  {
   "cell_type": "markdown",
   "id": "12c24893",
   "metadata": {},
   "source": [
    "### Создадим функцию для лемматизации и очистки текста"
   ]
  },
  {
   "cell_type": "code",
   "execution_count": 9,
   "id": "353a16de",
   "metadata": {},
   "outputs": [],
   "source": [
    "corpus = list(data['text'])"
   ]
  },
  {
   "cell_type": "code",
   "execution_count": 10,
   "id": "6a7e9449",
   "metadata": {},
   "outputs": [],
   "source": [
    "def lemmatize(text):\n",
    "    lemmatizer = nltk.WordNetLemmatizer()\n",
    "    \n",
    "    lem_text = \" \".join(lemmatizer.lemmatize(word) for word in text.split())\n",
    "    \n",
    "    lem_final = re.sub(r'[^a-zA-Z ]', '', lem_text)\n",
    "    \n",
    "    return lem_final.lower()"
   ]
  },
  {
   "cell_type": "markdown",
   "id": "5a3b99bc",
   "metadata": {},
   "source": [
    "<div class=\"alert alert-danger\">\n",
    "<b>🚫 Комментарий ревьювера:</b> К сожалению лемматизатор Mystem подходит только для русского языка. Вместо него можно применить, например WordNetLemmatizer(). \n",
    "    \n",
    "Пример кода можно взять из тренажера. Обрати внимание, что лемматизацию мы должны применять к каждому токену (слову в тексте). Например таким образом:\n",
    "    \n",
    "    lemm_text = \" \".join(lemmatizer.lemmatize(word) for word in text.split())\n",
    "\n",
    "\n",
    "</div>"
   ]
  },
  {
   "cell_type": "markdown",
   "id": "12a78c9c",
   "metadata": {},
   "source": [
    "<div class=\"alert alert-info\"> <b>ℹ️ Yulia:</b> \n",
    "    \n",
    "Поправила.\n",
    "\n",
    "</div>"
   ]
  },
  {
   "cell_type": "markdown",
   "id": "edcb8175",
   "metadata": {},
   "source": [
    "<div class=\"alert alert-success\">\n",
    "<b>✔️ Комментарий ревьювера v2:</b> Все правильно, только очистку текста лучше поставить перед лемматизацией.\n",
    "\n",
    "</div>"
   ]
  },
  {
   "cell_type": "markdown",
   "id": "6de04caa",
   "metadata": {},
   "source": [
    "<div class=\"alert alert-success\">\n",
    "<b>✔️ Комментарий ревьювера:</b> На будущее, если будет интересно более углубленное изучение анализа текстов, можешь попробовать другие способы лемматизации. \n",
    "    \n",
    "1. Лемматизация с помощью Spacy. Но если делать на всем датасете, может занять 0,5-1 час, в зависимости от возможностей компьютера.\n",
    "https://spacy.io/ или https://webdevblog.ru/podhody-lemmatizacii-s-primerami-v-python/\n",
    "\n",
    "2. Использовать POS-теги, это сделает лемматизацию точнее:\n",
    "https://webdevblog.ru/podhody-lemmatizacii-s-primerami-v-python/\n",
    "    \n",
    "Это занимает больше времени, поэтому можешь проверить локально, на небольшой выборке. \n",
    "    \n",
    "Для контроля времени лемматизации, поскольку процесс длительный, можно применять индикатор прогресса. Различные варианты можно посмотреть здесь: \n",
    "    \n",
    "https://habr.com/ru/post/483400/ \n",
    "    \n",
    "Пример:\n",
    "    \n",
    "    from tqdm import tqdm\n",
    "    tqdm.pandas()\n",
    "    data['lemm_text'] = data['text'].progress_apply(lemmatize)\n",
    "\n",
    "</div>"
   ]
  },
  {
   "cell_type": "markdown",
   "id": "048384d6",
   "metadata": {},
   "source": [
    "#### Протестируем работу функции лемматизации и очистки текста."
   ]
  },
  {
   "cell_type": "code",
   "execution_count": 11,
   "id": "aec7381e",
   "metadata": {},
   "outputs": [
    {
     "name": "stdout",
     "output_type": "stream",
     "text": [
      "Исходный текст: However, the Moonlite edit noted by golden daph was me (on optus ...)  Wake up wikkis.  So funny\n",
      "Очищенный и лемматизированный текст: however the moonlite edit noted by golden daph wa me on optus  wake up wikkis so funny\n"
     ]
    }
   ],
   "source": [
    "print(\"Исходный текст:\", corpus[100])\n",
    "print(\"Очищенный и лемматизированный текст:\", lemmatize(corpus[100]))"
   ]
  },
  {
   "cell_type": "markdown",
   "id": "e86400a6",
   "metadata": {},
   "source": [
    "<div class=\"alert alert-success\">\n",
    "<b>✔️ Комментарий ревьювера:</b> В данном примере и в тексте ниже видно, что очистка текста отработала, но преобразования к исходной форме не видно. \n",
    "    \n",
    "Стоит отметить, что даже WordNetLemmatizer() преобразовывает далеко не все слова, но в целом по нескольким строчкам можно будет увидеть изменение.\n",
    "    \n",
    "</div>"
   ]
  },
  {
   "cell_type": "markdown",
   "id": "439ad650",
   "metadata": {},
   "source": [
    "#### Применим функцию для лемматизации и очистки текста"
   ]
  },
  {
   "cell_type": "code",
   "execution_count": 12,
   "id": "134123ca",
   "metadata": {},
   "outputs": [
    {
     "name": "stderr",
     "output_type": "stream",
     "text": [
      "100%|█████████████████████████████████| 159292/159292 [01:01<00:00, 2602.91it/s]\n"
     ]
    }
   ],
   "source": [
    "# applying the function without tracking the progress\n",
    "# data['lem_text'] = data.text.apply(lemmatize)\n",
    "\n",
    "# lemmatizing with tracking the progress\n",
    "data['lem_text'] = data['text'].progress_apply(lemmatize)"
   ]
  },
  {
   "cell_type": "code",
   "execution_count": 13,
   "id": "d16d8041",
   "metadata": {
    "scrolled": false
   },
   "outputs": [
    {
     "data": {
      "text/html": [
       "<div>\n",
       "<style scoped>\n",
       "    .dataframe tbody tr th:only-of-type {\n",
       "        vertical-align: middle;\n",
       "    }\n",
       "\n",
       "    .dataframe tbody tr th {\n",
       "        vertical-align: top;\n",
       "    }\n",
       "\n",
       "    .dataframe thead th {\n",
       "        text-align: right;\n",
       "    }\n",
       "</style>\n",
       "<table border=\"1\" class=\"dataframe\">\n",
       "  <thead>\n",
       "    <tr style=\"text-align: right;\">\n",
       "      <th></th>\n",
       "      <th>text</th>\n",
       "      <th>toxic</th>\n",
       "      <th>lem_text</th>\n",
       "    </tr>\n",
       "  </thead>\n",
       "  <tbody>\n",
       "    <tr>\n",
       "      <th>0</th>\n",
       "      <td>Explanation\\nWhy the edits made under my usern...</td>\n",
       "      <td>0</td>\n",
       "      <td>explanation why the edits made under my userna...</td>\n",
       "    </tr>\n",
       "    <tr>\n",
       "      <th>1</th>\n",
       "      <td>D'aww! He matches this background colour I'm s...</td>\n",
       "      <td>0</td>\n",
       "      <td>daww he match this background colour im seemin...</td>\n",
       "    </tr>\n",
       "    <tr>\n",
       "      <th>2</th>\n",
       "      <td>Hey man, I'm really not trying to edit war. It...</td>\n",
       "      <td>0</td>\n",
       "      <td>hey man im really not trying to edit war its j...</td>\n",
       "    </tr>\n",
       "    <tr>\n",
       "      <th>3</th>\n",
       "      <td>\"\\nMore\\nI can't make any real suggestions on ...</td>\n",
       "      <td>0</td>\n",
       "      <td>more i cant make any real suggestion on impro...</td>\n",
       "    </tr>\n",
       "    <tr>\n",
       "      <th>4</th>\n",
       "      <td>You, sir, are my hero. Any chance you remember...</td>\n",
       "      <td>0</td>\n",
       "      <td>you sir are my hero any chance you remember wh...</td>\n",
       "    </tr>\n",
       "  </tbody>\n",
       "</table>\n",
       "</div>"
      ],
      "text/plain": [
       "                                                text  toxic  \\\n",
       "0  Explanation\\nWhy the edits made under my usern...      0   \n",
       "1  D'aww! He matches this background colour I'm s...      0   \n",
       "2  Hey man, I'm really not trying to edit war. It...      0   \n",
       "3  \"\\nMore\\nI can't make any real suggestions on ...      0   \n",
       "4  You, sir, are my hero. Any chance you remember...      0   \n",
       "\n",
       "                                            lem_text  \n",
       "0  explanation why the edits made under my userna...  \n",
       "1  daww he match this background colour im seemin...  \n",
       "2  hey man im really not trying to edit war its j...  \n",
       "3   more i cant make any real suggestion on impro...  \n",
       "4  you sir are my hero any chance you remember wh...  "
      ]
     },
     "execution_count": 13,
     "metadata": {},
     "output_type": "execute_result"
    }
   ],
   "source": [
    "data.head()"
   ]
  },
  {
   "cell_type": "markdown",
   "id": "a46655e3",
   "metadata": {},
   "source": [
    "<div class=\"alert alert-success\">\n",
    "<b>✔️ Комментарий ревьювера v2:</b> Лемматизация выполнена успешно\n",
    "\n",
    "</div>"
   ]
  },
  {
   "cell_type": "markdown",
   "id": "dffe278f",
   "metadata": {},
   "source": [
    "### Разделим данные на тестовую и обучающую выборки"
   ]
  },
  {
   "cell_type": "code",
   "execution_count": 14,
   "id": "0c6140f0",
   "metadata": {},
   "outputs": [],
   "source": [
    "features = data.drop(columns='toxic', axis=1)\n",
    "target = data['toxic']"
   ]
  },
  {
   "cell_type": "code",
   "execution_count": 15,
   "id": "1755abcf",
   "metadata": {
    "scrolled": true
   },
   "outputs": [
    {
     "data": {
      "text/plain": [
       "(159292, 2)"
      ]
     },
     "execution_count": 15,
     "metadata": {},
     "output_type": "execute_result"
    }
   ],
   "source": [
    "features.shape"
   ]
  },
  {
   "cell_type": "code",
   "execution_count": 16,
   "id": "b193e817",
   "metadata": {
    "scrolled": true
   },
   "outputs": [
    {
     "data": {
      "text/plain": [
       "(159292,)"
      ]
     },
     "execution_count": 16,
     "metadata": {},
     "output_type": "execute_result"
    }
   ],
   "source": [
    "target.shape"
   ]
  },
  {
   "cell_type": "code",
   "execution_count": 17,
   "id": "e5585b39",
   "metadata": {},
   "outputs": [],
   "source": [
    "# Разделяю на обучающую и тестовую\n",
    "X_train, X_test, y_train, y_test = train_test_split(features, target, \n",
    "                                                    test_size=0.2, \n",
    "                                                    random_state=5)"
   ]
  },
  {
   "cell_type": "code",
   "execution_count": 18,
   "id": "8087464b",
   "metadata": {
    "scrolled": true
   },
   "outputs": [
    {
     "name": "stdout",
     "output_type": "stream",
     "text": [
      "Train features sample size: 127433\n",
      "Train target sample size: 127433\n",
      "\n",
      "Test features sample size: 31859\n",
      "Test target sample size: 31859\n",
      "\n",
      "Test sample, %: 20.0\n"
     ]
    }
   ],
   "source": [
    "print('Train features sample size:', X_train.shape[0])\n",
    "print('Train target sample size:', y_train.shape[0])\n",
    "print()\n",
    "print('Test features sample size:', X_test.shape[0])\n",
    "print('Test target sample size:', y_test.shape[0])\n",
    "print()\n",
    "print('Test sample, %:', round(X_test.shape[0] / (X_test.shape[0] + X_train.shape[0]) * 100, 2))"
   ]
  },
  {
   "cell_type": "markdown",
   "id": "56d1eb40",
   "metadata": {},
   "source": [
    "### Проведем upsampling для корректировки дисбаланса таргетов в обучающей выборке"
   ]
  },
  {
   "cell_type": "markdown",
   "id": "fa4ba63f",
   "metadata": {},
   "source": [
    "<div class=\"alert alert-success\">\n",
    "<b>✔️ Комментарий ревьювера v2:</b> Как рекомендация, лучше учитывать дисбаланс классов в моделях, например:\n",
    "    \n",
    "    class_weight = 'balanced'\n",
    "\n",
    "</div>"
   ]
  },
  {
   "cell_type": "markdown",
   "id": "2b654564",
   "metadata": {},
   "source": []
  },
  {
   "cell_type": "code",
   "execution_count": 19,
   "id": "3bb65bfb",
   "metadata": {},
   "outputs": [],
   "source": [
    "# функция upsample для создания сбалансированности выборки \n",
    "def upsample(features, target, repeat):\n",
    "    \n",
    "    features_zeros = features[target == 0]\n",
    "    features_ones = features[target == 1]\n",
    "    \n",
    "    target_zeros = target[target == 0]  \n",
    "    target_ones = target[target == 1]\n",
    "    \n",
    "    features_upsampled = pd.concat([features_zeros] + [features_ones] * repeat)\n",
    "    \n",
    "    target_upsampled = pd.concat([target_zeros] + [target_ones] * repeat)\n",
    "    \n",
    "    features_upsampled, target_upsampled = shuffle(features_upsampled, target_upsampled, random_state=5)\n",
    "    \n",
    "    return features_upsampled, target_upsampled"
   ]
  },
  {
   "cell_type": "code",
   "execution_count": 20,
   "id": "1b5136cd",
   "metadata": {},
   "outputs": [],
   "source": [
    "# upsample for target disbalance correction\n",
    "X_train_up, y_train_up = upsample(X_train,\n",
    "                                  y_train,\n",
    "                                  repeat = 5)"
   ]
  },
  {
   "cell_type": "code",
   "execution_count": 63,
   "id": "701db268",
   "metadata": {},
   "outputs": [
    {
     "data": {
      "image/png": "[encoded data removed]",
      "text/plain": [
       "<Figure size 640x480 with 1 Axes>"
      ]
     },
     "metadata": {},
     "output_type": "display_data"
    }
   ],
   "source": [
    "y_train.value_counts().plot(kind='bar', color=['cyan'])\n",
    "\n",
    "plt.title('Disbalanced Target')\n",
    "plt.xlabel('Categories')\n",
    "plt.ylabel('Frequency')\n",
    "plt.show();"
   ]
  },
  {
   "cell_type": "code",
   "execution_count": 64,
   "id": "8e48c2c1",
   "metadata": {},
   "outputs": [
    {
     "data": {
      "image/png": "[encoded data removed]",
      "text/plain": [
       "<Figure size 640x480 with 1 Axes>"
      ]
     },
     "metadata": {},
     "output_type": "display_data"
    }
   ],
   "source": [
    "y_train_up.value_counts().plot(kind='bar', color='green')\n",
    "\n",
    "plt.title('Upsampled Target')\n",
    "plt.xlabel('Categories')\n",
    "plt.ylabel('Frequency')\n",
    "plt.show();"
   ]
  },
  {
   "cell_type": "markdown",
   "id": "20c79175",
   "metadata": {},
   "source": [
    "<div class=\"alert alert-success\">\n",
    "<b>✔️ Комментарий ревьювера v3:</b> Отлично!\n",
    "\n",
    "</div>"
   ]
  },
  {
   "cell_type": "markdown",
   "id": "7f664ca6",
   "metadata": {},
   "source": [
    "<div class=\"alert alert-warning\">\n",
    "<b>⚠️ Комментарий ревьювера v2:</b> К сожалению, данная гистограмма не отображает реальную картину. Как вариант, можно построить две гистограммы, и мы увидим, как изменился баланс классов. Желательно также добавить подписи к диаграммам.\n",
    "    \n",
    "Стоит отметить, что мы не обеспечили полный баланс классов, осталась некоторая несбалансированность. Это поможет для обучения модели, но не сильно. \n",
    "    \n",
    "Поэтому лучше не останавливаться на полумерах =)\n",
    "    \n",
    "В целом, рекомендую применить балансировку внутри моделей.\n",
    "    \n",
    "Вообще upsampling просто дублирует строчки в малом классе, новых данных он не приносит.\n",
    "    \n",
    "При анализе текстов применяют также аугментацию, например слова заменяют синонимами. Но это непростая задача, можно почитать здесь:\n",
    "    \n",
    "https://alexanderdyakonov.wordpress.com/2020/11/09/text-augmentation/#:~:text=%D0%90%D1%83%D0%B3%D0%BC%D0%B5%D0%BD%D1%82%D0%B0%D1%86%D0%B8%D1%8F%20(augmentation)%20%E2%80%93%20%D1%8D%D1%82%D0%BE%20%D0%BF%D0%BE%D1%81%D1%82%D1%80%D0%BE%D0%B5%D0%BD%D0%B8%D0%B5,%D0%BC%D0%B5%D0%BD%D1%8F%D1%8E%D1%82%20(%D0%B8%D0%BD%D0%BE%D0%B3%D0%B4%D0%B0%20%D1%81%D1%83%D1%89%D0%B5%D1%81%D1%82%D0%B2%D0%B5%D0%BD%D0%BD%D0%BE)%20%D0%BE%D0%BF%D0%B8%D1%81%D0%B0%D0%BD%D0%B8%D1%8F.\n",
    "\n",
    "</div>"
   ]
  },
  {
   "cell_type": "markdown",
   "id": "27de5e56",
   "metadata": {},
   "source": [
    "### Таргетные значения теперь сбалансированы лучше, что положительно скажется на обучении."
   ]
  },
  {
   "cell_type": "markdown",
   "id": "bb9fd71d",
   "metadata": {},
   "source": [
    "### ВЫВОД: Исходные данные разделены на тестовые и обучающие, выделены признаки и таргетные значения. Дальнейшие преобразования текста будем производить только с признаками (текстом).\n",
    "\n",
    "Применим модель \"мешка слов\" к набору данных."
   ]
  },
  {
   "cell_type": "markdown",
   "id": "51b51041",
   "metadata": {},
   "source": [
    "### Реализуем модель «мешка слов» в классе CountVectorizer"
   ]
  },
  {
   "cell_type": "markdown",
   "id": "687fcf09",
   "metadata": {},
   "source": [
    "Мы импортируем класс CountVectorizer, создам экземпляр класса и подгоняем модель к нашим данным для анализа тональности твитов."
   ]
  },
  {
   "cell_type": "code",
   "execution_count": 22,
   "id": "4009b5b8",
   "metadata": {},
   "outputs": [],
   "source": [
    "vect = CountVectorizer(stop_words=stopwords)"
   ]
  },
  {
   "cell_type": "code",
   "execution_count": 23,
   "id": "0daa4c41",
   "metadata": {},
   "outputs": [],
   "source": [
    "# Считаю Tf-idf для обучающей\n",
    "X_train_vect = vect.fit_transform(X_train.lem_text)\n",
    "\n",
    "# Считаю Tf-idf для тестовой\n",
    "X_test_vect = vect.transform(X_test.lem_text)"
   ]
  },
  {
   "cell_type": "markdown",
   "id": "b4be7f4f",
   "metadata": {},
   "source": [
    "Перед тем как мы пытаемся улучшить выделение признаков, давайте измерим качество модели, построив классификатор. \n",
    "\n",
    "У нас есть обучающие метки, хранящиеся в y_train и обучающие данные, представленные в виде «мешка слов» X_train, таким образом, мы можем обучить классификатор по этим данным. \n",
    "\n",
    "Как правило, для подобных высокоразмерных разреженных данных лучше всего работают линейные модели типа LogisticRegression."
   ]
  },
  {
   "cell_type": "markdown",
   "id": "24f9f7b4",
   "metadata": {},
   "source": [
    "<div class=\"alert alert-success\">\n",
    "<b>✔️ Комментарий ревьювера:</b> Все правильно, согласен с твоими выводами! Даже с параметрами модели по умолчанию мы сможем увидеть отличия.\n",
    "</div>"
   ]
  },
  {
   "cell_type": "markdown",
   "id": "56f30e9b",
   "metadata": {},
   "source": [
    "### Масштабирование признаков с помощью TF-IDF\n",
    "\n",
    "Следующий подход вместо исключения несущественных признаков пытается масштабировать признаки в зависимости от степени их информативности. Одним из наиболее распространенных способов такого масштабирования является метод частота термина-обратная частота документа (term frequency-inverse document frequency, tf-idf). \n",
    "\n",
    "**Идея этого метода заключается в том, чтобы присвоить большой вес термину, который часто встречается в конкретном документе, но при этом редко встречается в остальных документах корпуса. Если слово часто появляется в конкретном документе, но при этом редко встречается в остальных документах, оно, вероятно, будет описывать содержимое этого документа лучше.**\n",
    "\n",
    "Мешок слов учитывает частоту употребления слов. Посмотрим, как часто уникальное слово встречается во всём корпусе и в отдельном его тексте.\n",
    "\n",
    "Оценка важности слова определяется величиной TF-IDF (от англ. term frequency, «частота терма, или слова»; inverse document frequency, «обратная частота документа, или текста»). То есть TF отвечает за количество упоминаний слова в отдельном тексте, а IDF отражает частоту его употребления во всём корпусе.\n",
    "\n",
    "#### TFIDF = TF * IDF\n",
    "\n",
    "IDF нужна в формуле, чтобы уменьшить вес слов, наиболее\n",
    "распространённых в любом другом тексте заданного корпуса.\n",
    "IDF зависит от общего числа текстов в корпусе (D) и количества\n",
    "текстов, в которых это слово встречается (d).\n",
    "\n",
    "Большая величина TF-IDF говорит об уникальности слова в тексте\n",
    "по отношению к корпусу. Чем чаще оно встречается в конкретном\n",
    "тексте и реже в остальных, тем выше значение TF-IDF.\n",
    "\n",
    "**Если данные разделены на обучающую и тестовую выборки,\n",
    "функцию fit() запустим только на обучающей. Иначе тестирование\n",
    "будет нечестным: в модели будут учтены частоты слов из тестовой\n",
    "выборки.**\n",
    "\n",
    "Сначала переведем выборки X_train, X_test в векторный вид.\n"
   ]
  },
  {
   "cell_type": "code",
   "execution_count": 24,
   "id": "02f86d35",
   "metadata": {},
   "outputs": [],
   "source": [
    "count_tf_idf = TfidfVectorizer(stop_words=stopwords)"
   ]
  },
  {
   "cell_type": "markdown",
   "id": "45699035",
   "metadata": {},
   "source": [
    "#### ***Несбалансированная выборка таргетов***"
   ]
  },
  {
   "cell_type": "code",
   "execution_count": 25,
   "id": "c78b5700",
   "metadata": {},
   "outputs": [],
   "source": [
    "# Считаю Tf-idf для обучающей\n",
    "tf_idf_X_train = count_tf_idf.fit_transform(X_train['lem_text'])\n",
    "\n",
    "# Считаю Tf-idf для тестовой\n",
    "tf_idf_X_test = count_tf_idf.transform(X_test['lem_text'])"
   ]
  },
  {
   "cell_type": "code",
   "execution_count": 26,
   "id": "e5748667",
   "metadata": {},
   "outputs": [
    {
     "name": "stdout",
     "output_type": "stream",
     "text": [
      "Размер матрицы TF-IDF X_train: (127433, 191019)\n",
      "Размер матрицы TF-IDF X_test: (31859, 191019)\n"
     ]
    }
   ],
   "source": [
    "print(\"Размер матрицы TF-IDF X_train:\", tf_idf_X_train.shape)\n",
    "print(\"Размер матрицы TF-IDF X_test:\", tf_idf_X_test.shape)"
   ]
  },
  {
   "cell_type": "markdown",
   "id": "77daf5d0",
   "metadata": {},
   "source": [
    "#### ***Cбалансированная выборка таргетов***"
   ]
  },
  {
   "cell_type": "code",
   "execution_count": 27,
   "id": "79d72dc1",
   "metadata": {},
   "outputs": [],
   "source": [
    "# Считаю Tf-idf для обучающей\n",
    "tf_idf_X_train_up = count_tf_idf.fit_transform(X_train_up['lem_text'])"
   ]
  },
  {
   "cell_type": "code",
   "execution_count": 28,
   "id": "36e9f726",
   "metadata": {},
   "outputs": [
    {
     "name": "stdout",
     "output_type": "stream",
     "text": [
      "Размер матрицы TF-IDF X_train_up: (179009, 191019)\n"
     ]
    }
   ],
   "source": [
    "print(\"Размер матрицы TF-IDF X_train_up:\", tf_idf_X_train_up.shape)"
   ]
  },
  {
   "cell_type": "markdown",
   "id": "631cab78",
   "metadata": {},
   "source": [
    "### ВЫВОД: Данные очищены от странных букв и знаков, знаки пунктуации и стоп-слова удалены, данные разделены на тестовую и обучающую выборки, в каждой из которой выделены признаки и целевое значение. Выборки признаков приведены к векторному виду и готовы к обучению."
   ]
  },
  {
   "cell_type": "markdown",
   "id": "75381862",
   "metadata": {},
   "source": [
    "<div class=\"alert alert-success\">\n",
    "<b>✔️ Комментарий ревьювера:</b> Разделение на выборки и векторизация текста выполнены успешно!\n",
    "    \n",
    "</div>"
   ]
  },
  {
   "cell_type": "markdown",
   "id": "e1703465",
   "metadata": {},
   "source": [
    "## Обучение"
   ]
  },
  {
   "cell_type": "markdown",
   "id": "01317866",
   "metadata": {},
   "source": [
    "<div class=\"alert alert-success\">\n",
    "<b>✔️ Комментарий ревьювера:</b> На будущее хочу посоветовать, как можно улучшить обучение моделей, в том числе и для задач предсказания тональности текста.\n",
    "    \n",
    "Обычно мы обучаем на выборке train и применяем кросс-валидацию, например GridSearchCV. Но когда используется кросс-валидация, получается, что модель в итоге обучается на всей обучающей выборке и это немного не правильно — происходит утечка данных. \n",
    "    \n",
    "В таких случаях рекомендуется оборачивать конструкцию в Pipeline. Вот здесь можно посмотреть примеры применения:\n",
    "    \n",
    "https://medium.com/analytics-vidhya/ml-pipelines-using-scikit-learn-and-gridsearchcv-fe605a7f9e05\n",
    "    \n",
    "https://habr.com/ru/post/538458/\n",
    "    \n",
    "Pipeline + GridSearchCV: https://towardsdatascience.com/nlp-with-pipeline-gridsearch-5922266e82f4\n",
    "    \n",
    "Таким образом в GridSearchCV можно добавить пайплайн — но это не обязательно для выполнения данной работы.\n",
    "    \n",
    "В данном случае в pipeline можно завести функцию upsampling, tf-idf и модель для машинного обучения.\n",
    "</div>"
   ]
  },
  {
   "cell_type": "markdown",
   "id": "68fbc03d",
   "metadata": {},
   "source": [
    "<div class=\"alert alert-danger\">\n",
    "<b>🚫 Комментарий ревьювера:</b> Общее замечание по обучению моделей:\n",
    "    \n",
    "Мы должны только одну модель проверить на тестовой выборке.\n",
    "    \n",
    "Почему это важно? Дело в том, что в реальности нам недоступна тестовая выборка, поэтому мы сами должны организовать проверку качества модели. Для этого берем выборки train, делаем кросс-валидацию. \n",
    "    \n",
    "На основе кросс-валидации мы должны выбрать лучшую модель и векторизатор, а затем ее проверить на тестовой выборке.\n",
    "    \n",
    "</div>"
   ]
  },
  {
   "cell_type": "markdown",
   "id": "6e3e8c74",
   "metadata": {},
   "source": [
    "<div class=\"alert alert-info\"> <b>ℹ️ Yulia:</b> \n",
    "    \n",
    "я вроде так и делаю... по best_score_ выбираю лучшее значение и затем уже лучшую модель в разделе выводы тестирую. или ты про что-то другое?\n",
    "\n",
    "</div>"
   ]
  },
  {
   "cell_type": "markdown",
   "id": "4fa593cf",
   "metadata": {},
   "source": [
    "<div class=\"alert alert-success\">\n",
    "<b>✔️ Комментарий ревьювера v2:</b> Да, выбираем лучшую модель и только ее одну тестируем. Просто сейчас у тебя тестирование на нскольких моделях.\n",
    "    \n",
    "</div>"
   ]
  },
  {
   "cell_type": "markdown",
   "id": "c9382ded",
   "metadata": {},
   "source": [
    "### Logistic Regression с использованием перекрестной проверки для модели «мешка слов» в классе CountVectorizer()"
   ]
  },
  {
   "cell_type": "markdown",
   "id": "87dbedda",
   "metadata": {},
   "source": [
    "<div class=\"alert alert-success\">\n",
    "<b>✔️ Комментарий ревьювера v3:</b> Pipeline пока решила не пробовать ?)\n",
    "\n",
    "</div>"
   ]
  },
  {
   "cell_type": "code",
   "execution_count": null,
   "id": "1b21204e",
   "metadata": {},
   "outputs": [],
   "source": [
    "pipe_lr = Pipeline([(‘vect’, CountVectorizer()),\n",
    " (‘tfidf’, TfidfTransformer()),\n",
    " (‘model’, LogisticRegression())])\n",
    "\n",
    "model = pipe_lr.fit(x_train, y_train)\n",
    "\n",
    "prediction = model.predict(x_test)\n",
    "\n",
    "print(“\\naccuracy: {}%”.format(round(accuracy_score(y_test, prediction)*100,2)))\n",
    "print('\\n',confusion_matrix(y_test, prediction))\n",
    "print('\\n',classification_report(y_test, prediction))"
   ]
  },
  {
   "cell_type": "code",
   "execution_count": 29,
   "id": "7a59c316",
   "metadata": {},
   "outputs": [],
   "source": [
    "logreg = LogisticRegression(class_weight = 'balanced', \n",
    "                            random_state=5)"
   ]
  },
  {
   "cell_type": "code",
   "execution_count": 30,
   "id": "19d3047a",
   "metadata": {},
   "outputs": [],
   "source": [
    "param_grid = [\n",
    "    {'C': [0.01, 0.1, 1, 2, 10, 100], \n",
    "     'penalty': ['l1', 'l2']}\n",
    "]"
   ]
  },
  {
   "cell_type": "markdown",
   "id": "4a9e28e8",
   "metadata": {},
   "source": [
    "<div class=\"alert alert-warning\">\n",
    "<b>⚠️ Комментарий ревьювера:</b> По умолчанию в функции GridSearchCV рассчитывается метрика accuracy. В данном задании нас интересует F-мера. Нужно добавить целевую метрику:\n",
    "    \n",
    "    scoring='f1'\n",
    "\n",
    "Поскольку классы несбалансированы, метрика accuracy не позволяет правильно оценить качество обучения. Подробнее о дисбалансе классов и влиянии на задачи можно почитать здесь:\n",
    "    \n",
    "https://alexanderdyakonov.wordpress.com/2021/05/27/imbalance/\n",
    "    \n",
    "***\n",
    "    \n",
    "P.S. дальше увидел, что ты рассчитываешь F-меру. Но подбор гиперпараметров лучше делать по данной метрике, т.к. она целевая.\n",
    "</div>"
   ]
  },
  {
   "cell_type": "markdown",
   "id": "65a75ac8",
   "metadata": {},
   "source": [
    "<div class=\"alert alert-success\">\n",
    "<b>✔️ Комментарий ревьювера:</b> Далее проверял проект локально\n",
    "    \n",
    "</div>"
   ]
  },
  {
   "cell_type": "code",
   "execution_count": 69,
   "id": "7c782192",
   "metadata": {
    "scrolled": true
   },
   "outputs": [
    {
     "name": "stderr",
     "output_type": "stream",
     "text": [
      "/usr/local/Cellar/jupyterlab/3.4.8/libexec/lib/python3.10/site-packages/sklearn/linear_model/_logistic.py:444: ConvergenceWarning: lbfgs failed to converge (status=1):\n",
      "STOP: TOTAL NO. of ITERATIONS REACHED LIMIT.\n",
      "\n",
      "Increase the number of iterations (max_iter) or scale the data as shown in:\n",
      "    https://scikit-learn.org/stable/modules/preprocessing.html\n",
      "Please also refer to the documentation for alternative solver options:\n",
      "    https://scikit-learn.org/stable/modules/linear_model.html#logistic-regression\n",
      "  n_iter_i = _check_optimize_result(\n",
      "/usr/local/Cellar/jupyterlab/3.4.8/libexec/lib/python3.10/site-packages/sklearn/linear_model/_logistic.py:444: ConvergenceWarning: lbfgs failed to converge (status=1):\n",
      "STOP: TOTAL NO. of ITERATIONS REACHED LIMIT.\n",
      "\n",
      "Increase the number of iterations (max_iter) or scale the data as shown in:\n",
      "    https://scikit-learn.org/stable/modules/preprocessing.html\n",
      "Please also refer to the documentation for alternative solver options:\n",
      "    https://scikit-learn.org/stable/modules/linear_model.html#logistic-regression\n",
      "  n_iter_i = _check_optimize_result(\n",
      "/usr/local/Cellar/jupyterlab/3.4.8/libexec/lib/python3.10/site-packages/sklearn/linear_model/_logistic.py:444: ConvergenceWarning: lbfgs failed to converge (status=1):\n",
      "STOP: TOTAL NO. of ITERATIONS REACHED LIMIT.\n",
      "\n",
      "Increase the number of iterations (max_iter) or scale the data as shown in:\n",
      "    https://scikit-learn.org/stable/modules/preprocessing.html\n",
      "Please also refer to the documentation for alternative solver options:\n",
      "    https://scikit-learn.org/stable/modules/linear_model.html#logistic-regression\n",
      "  n_iter_i = _check_optimize_result(\n",
      "/usr/local/Cellar/jupyterlab/3.4.8/libexec/lib/python3.10/site-packages/sklearn/linear_model/_logistic.py:444: ConvergenceWarning: lbfgs failed to converge (status=1):\n",
      "STOP: TOTAL NO. of ITERATIONS REACHED LIMIT.\n",
      "\n",
      "Increase the number of iterations (max_iter) or scale the data as shown in:\n",
      "    https://scikit-learn.org/stable/modules/preprocessing.html\n",
      "Please also refer to the documentation for alternative solver options:\n",
      "    https://scikit-learn.org/stable/modules/linear_model.html#logistic-regression\n",
      "  n_iter_i = _check_optimize_result(\n",
      "/usr/local/Cellar/jupyterlab/3.4.8/libexec/lib/python3.10/site-packages/sklearn/linear_model/_logistic.py:444: ConvergenceWarning: lbfgs failed to converge (status=1):\n",
      "STOP: TOTAL NO. of ITERATIONS REACHED LIMIT.\n",
      "\n",
      "Increase the number of iterations (max_iter) or scale the data as shown in:\n",
      "    https://scikit-learn.org/stable/modules/preprocessing.html\n",
      "Please also refer to the documentation for alternative solver options:\n",
      "    https://scikit-learn.org/stable/modules/linear_model.html#logistic-regression\n",
      "  n_iter_i = _check_optimize_result(\n",
      "/usr/local/Cellar/jupyterlab/3.4.8/libexec/lib/python3.10/site-packages/sklearn/linear_model/_logistic.py:444: ConvergenceWarning: lbfgs failed to converge (status=1):\n",
      "STOP: TOTAL NO. of ITERATIONS REACHED LIMIT.\n",
      "\n",
      "Increase the number of iterations (max_iter) or scale the data as shown in:\n",
      "    https://scikit-learn.org/stable/modules/preprocessing.html\n",
      "Please also refer to the documentation for alternative solver options:\n",
      "    https://scikit-learn.org/stable/modules/linear_model.html#logistic-regression\n",
      "  n_iter_i = _check_optimize_result(\n",
      "/usr/local/Cellar/jupyterlab/3.4.8/libexec/lib/python3.10/site-packages/sklearn/linear_model/_logistic.py:444: ConvergenceWarning: lbfgs failed to converge (status=1):\n",
      "STOP: TOTAL NO. of ITERATIONS REACHED LIMIT.\n",
      "\n",
      "Increase the number of iterations (max_iter) or scale the data as shown in:\n",
      "    https://scikit-learn.org/stable/modules/preprocessing.html\n",
      "Please also refer to the documentation for alternative solver options:\n",
      "    https://scikit-learn.org/stable/modules/linear_model.html#logistic-regression\n",
      "  n_iter_i = _check_optimize_result(\n",
      "/usr/local/Cellar/jupyterlab/3.4.8/libexec/lib/python3.10/site-packages/sklearn/linear_model/_logistic.py:444: ConvergenceWarning: lbfgs failed to converge (status=1):\n",
      "STOP: TOTAL NO. of ITERATIONS REACHED LIMIT.\n",
      "\n",
      "Increase the number of iterations (max_iter) or scale the data as shown in:\n",
      "    https://scikit-learn.org/stable/modules/preprocessing.html\n",
      "Please also refer to the documentation for alternative solver options:\n",
      "    https://scikit-learn.org/stable/modules/linear_model.html#logistic-regression\n",
      "  n_iter_i = _check_optimize_result(\n",
      "/usr/local/Cellar/jupyterlab/3.4.8/libexec/lib/python3.10/site-packages/sklearn/linear_model/_logistic.py:444: ConvergenceWarning: lbfgs failed to converge (status=1):\n",
      "STOP: TOTAL NO. of ITERATIONS REACHED LIMIT.\n",
      "\n",
      "Increase the number of iterations (max_iter) or scale the data as shown in:\n",
      "    https://scikit-learn.org/stable/modules/preprocessing.html\n",
      "Please also refer to the documentation for alternative solver options:\n",
      "    https://scikit-learn.org/stable/modules/linear_model.html#logistic-regression\n",
      "  n_iter_i = _check_optimize_result(\n",
      "/usr/local/Cellar/jupyterlab/3.4.8/libexec/lib/python3.10/site-packages/sklearn/linear_model/_logistic.py:444: ConvergenceWarning: lbfgs failed to converge (status=1):\n",
      "STOP: TOTAL NO. of ITERATIONS REACHED LIMIT.\n",
      "\n",
      "Increase the number of iterations (max_iter) or scale the data as shown in:\n",
      "    https://scikit-learn.org/stable/modules/preprocessing.html\n",
      "Please also refer to the documentation for alternative solver options:\n",
      "    https://scikit-learn.org/stable/modules/linear_model.html#logistic-regression\n",
      "  n_iter_i = _check_optimize_result(\n"
     ]
    }
   ],
   "source": [
    "logreg_grid = GridSearchCV(logreg, \n",
    "                           param_grid, \n",
    "                           cv=3, \n",
    "                           verbose=False, \n",
    "                           n_jobs=-1,\n",
    "                          scoring='f1')\n",
    "\n",
    "logreg_grid.fit(X_train_vect, y_train)\n",
    "\n",
    "import warnings \n",
    "warnings.filterwarnings('ignore')"
   ]
  },
  {
   "cell_type": "markdown",
   "id": "a1ae9a99",
   "metadata": {},
   "source": [
    "<div class=\"alert alert-warning\">\n",
    "<b>⚠️ Комментарий ревьювера:</b> В процессе расчета возникает предупреждение, что расчет не сходится. Можно увеличить параметр max_iter:\n",
    "    \n",
    "https://scikit-learn.org/stable/modules/generated/sklearn.linear_model.LogisticRegression.html\n",
    "    \n",
    "Еще можно отключит предупреждения:\n",
    "    \n",
    "    import warnings \n",
    "    warnings.filterwarnings('ignore')\n",
    "</div>"
   ]
  },
  {
   "cell_type": "code",
   "execution_count": 32,
   "id": "38b4f939",
   "metadata": {
    "scrolled": true
   },
   "outputs": [
    {
     "name": "stdout",
     "output_type": "stream",
     "text": [
      "Наилучшее значение перекрестной проверки: 0.75\n",
      "Наилучшие параметры:  {'C': 2, 'penalty': 'l2'}\n"
     ]
    }
   ],
   "source": [
    "print(\"Наилучшее значение перекрестной проверки: {:.2f}\".format(logreg_grid.best_score_))\n",
    "print(\"Наилучшие параметры: \", logreg_grid.best_params_)"
   ]
  },
  {
   "cell_type": "markdown",
   "id": "039ebdf6",
   "metadata": {},
   "source": [
    "<div class=\"alert alert-warning\">\n",
    "<b>⚠️ Комментарий ревьювера v3:</b> Кстати, только обратил внимание: \n",
    "    \n",
    "    confusion_matrix(y_pred_vect, y_train)\n",
    "    \n",
    "В функции confusion_matrix() первой переменной нужно указать истинные ответы, а второй переменной предсказания.\n",
    "    \n",
    "Еще такой момент, ты же обучаешь модель на других выборках:\n",
    "    \n",
    "    logreg_grid.fit(X_train_vect, y_train)\n",
    "    \n",
    "Тогда предсказания нужно посчитать:\n",
    "    \n",
    "    y_pred_vect = logreg_grid.predict(X_train_vect)\n",
    "    \n",
    "</div>"
   ]
  },
  {
   "cell_type": "code",
   "execution_count": 70,
   "id": "dbdf0a4d",
   "metadata": {},
   "outputs": [
    {
     "data": {
      "text/plain": [
       "array([[114086,   3746],\n",
       "       [   453,   9148]])"
      ]
     },
     "execution_count": 70,
     "metadata": {},
     "output_type": "execute_result"
    }
   ],
   "source": [
    "y_pred_vect = logreg_grid.predict(tf_idf_X_train)\n",
    "confusion_matrix(y_pred_vect, y_train)"
   ]
  },
  {
   "cell_type": "markdown",
   "id": "da20f2ba",
   "metadata": {},
   "source": [
    "<div class=\"alert alert-danger\">\n",
    "<b>🚫 Комментарий ревьювера v2:</b> Во всех моделях нужно убрать расчет предсказаний на тестовой выборке и матрицы ошибок. иначе происходит переобучение, т.е. мы подглядываем в ответ.\n",
    "    \n",
    "Тестовую выборку нужно оставить только один раз, для проверки лучшей модели.\n",
    "    \n",
    "</div>"
   ]
  },
  {
   "cell_type": "markdown",
   "id": "979732d7",
   "metadata": {},
   "source": [
    "<div class=\"alert alert-info\"> <b>ℹ️ Yulia v2:</b> \n",
    "    \n",
    "Убрала матрицу на тестовой выборке. А как тогда можно построить матрицу? Сделать предсказание на обучающей выборке? Учту в будущих проектах, спасибо! :)\n",
    " \n",
    "    y_pred_vect = logreg_grid.predict(tf_idf_X_train)\n",
    "    confusion_matrix(y_pred_vect, y_train)\n",
    "\n",
    "</div>"
   ]
  },
  {
   "cell_type": "markdown",
   "id": "a5a9223a",
   "metadata": {},
   "source": [
    "<div class=\"alert alert-success\">\n",
    "<b>✔️ Комментарий ревьювера v3:</b> Матрицу ошибок на кросс-валидации можно вывести таким образом:\n",
    "    \n",
    "    from sklearn.model_selection import cross_val_predict\n",
    "    \n",
    "    y_pred_vect = cross_val_predict(logreg_grid, X_train_vect, y_train, cv=5)\n",
    "    conf_matrix = confusion_matrix(y_train, y_pred_vect)\n",
    "    \n",
    "Чуть подробнее можно посмотреть здесь:\n",
    "    \n",
    "https://stackoverflow.com/questions/40057049/using-confusion-matrix-as-scoring-metric-in-cross-validation-in-scikit-learn\n",
    "  \n",
    "</div>"
   ]
  },
  {
   "cell_type": "markdown",
   "id": "e9bb2314",
   "metadata": {},
   "source": [
    "### ***Вывод:*** Полученная confusion_matrix представляет собой массив размером 2x2, где строки соответствуют фактическим классам, а столбцы соответствуют спрогнозированным классам. В данном случае речь идет о классах 0 и 1, то есть нетоксичный (0) и токсичный (1) комментарий.\n",
    "\n",
    "Число в каждой ячейке показывает количество примеров, когда спрогнозированный класс, представленный столбцом, совпадает или не совпадает с фактическим классом, представленным строкой.\n",
    "\n",
    "#### В полученной матрице видим, что элементы главной диагонали (28553 --> 0, 2011 --> 1) соответствуют правильным прогнозам (результатам классификации), тогда как остальные элементы показывают, сколько примеров, относящихся к одному классу, были ошибочно классифицированы как другой класс.\n",
    "\n",
    "**Получается, что фактический класс 0 (28553) и спрогнозированный класс 0 (14) прогнозируется довольно точно. В то время, как фактический класс 1 (1281) прогнозируется с низкой точностью: только 1281 класс действительно является классом 1 из 2011 наблюдений, тогда как 2011 - ложно положительны. Эту модель точно нельзя рекомендовать к использованию.**"
   ]
  },
  {
   "cell_type": "markdown",
   "id": "2eba7109",
   "metadata": {},
   "source": [
    "<div class=\"alert alert-success\">\n",
    "<b>✔️ Комментарий ревьювера:</b> Здорово, что добавила визуализацию матрицы ошибок!\n",
    "    \n",
    "</div>"
   ]
  },
  {
   "cell_type": "markdown",
   "id": "8f36a3c4",
   "metadata": {},
   "source": [
    "### Logistic Regression с использованием решетчатого поиска для модели «мешка слов» в классе TfidfVectorizer()"
   ]
  },
  {
   "cell_type": "markdown",
   "id": "1e022641",
   "metadata": {},
   "source": [
    "Поскольку tf-idf фактически использует статистические свойства\n",
    "обучающих данных, мы воспользуемся конвейером, чтобы убедиться в достоверности результатов решетчатого поиска."
   ]
  },
  {
   "cell_type": "markdown",
   "id": "01efb5fc",
   "metadata": {},
   "source": [
    "#### Обучим модель на несбалансированной выборке таргетов"
   ]
  },
  {
   "cell_type": "code",
   "execution_count": 34,
   "id": "5e60a49a",
   "metadata": {},
   "outputs": [],
   "source": [
    "logreg_tfidf = LogisticRegression(class_weight = 'balanced',\n",
    "                                  random_state=5)"
   ]
  },
  {
   "cell_type": "code",
   "execution_count": 35,
   "id": "9490d9c8",
   "metadata": {},
   "outputs": [
    {
     "name": "stdout",
     "output_type": "stream",
     "text": [
      "Наилучшее значение перекрестной проверки: 0.76\n"
     ]
    }
   ],
   "source": [
    "param_grid = {'C': [0.001, 0.01, 0.1, 1, 10]}\n",
    "\n",
    "grid = GridSearchCV(logreg_tfidf, \n",
    "                    param_grid, \n",
    "                    cv=3,\n",
    "                   scoring='f1')\n",
    "\n",
    "grid.fit(tf_idf_X_train, y_train)\n",
    "\n",
    "print(\"Наилучшее значение перекрестной проверки: {:.2f}\".format(grid.best_score_))\n",
    "\n",
    "import warnings \n",
    "warnings.filterwarnings('ignore')"
   ]
  },
  {
   "cell_type": "markdown",
   "id": "38c8e21d",
   "metadata": {},
   "source": [
    "#### Обучим модель на сбалансированной выборке таргетов"
   ]
  },
  {
   "cell_type": "code",
   "execution_count": 36,
   "id": "26290681",
   "metadata": {},
   "outputs": [],
   "source": [
    "logreg_tfidf_up = LogisticRegression(random_state=5)\n",
    "\n",
    "param_grid_up = {'C': [0.001, 0.01, 0.1, 1, 10]}\n",
    "\n",
    "grid_up = GridSearchCV(logreg_tfidf_up, \n",
    "                    param_grid_up, \n",
    "                    cv=3,\n",
    "                   scoring='f1')\n",
    "\n",
    "grid_up.fit(tf_idf_X_train_up, y_train_up)\n",
    "\n",
    "import warnings \n",
    "warnings.filterwarnings('ignore')"
   ]
  },
  {
   "cell_type": "markdown",
   "id": "7556bde5",
   "metadata": {},
   "source": [
    "### CatBoost в модели \"мешка слов\" в классе TfidfVectorizer()"
   ]
  },
  {
   "cell_type": "code",
   "execution_count": 38,
   "id": "ffb23471",
   "metadata": {
    "scrolled": true
   },
   "outputs": [
    {
     "name": "stdout",
     "output_type": "stream",
     "text": [
      "0:\tlearn: 0.5933380\ttotal: 4.6s\tremaining: 2m 59s\n",
      "1:\tlearn: 0.5175725\ttotal: 7.28s\tremaining: 2m 18s\n",
      "2:\tlearn: 0.4577321\ttotal: 8.78s\tremaining: 1m 48s\n",
      "3:\tlearn: 0.4124881\ttotal: 10.1s\tremaining: 1m 30s\n",
      "4:\tlearn: 0.3776291\ttotal: 11.5s\tremaining: 1m 20s\n",
      "5:\tlearn: 0.3478793\ttotal: 12.9s\tremaining: 1m 13s\n",
      "6:\tlearn: 0.3246453\ttotal: 14.7s\tremaining: 1m 9s\n",
      "7:\tlearn: 0.3068377\ttotal: 16.7s\tremaining: 1m 6s\n",
      "8:\tlearn: 0.2921749\ttotal: 18.4s\tremaining: 1m 3s\n",
      "9:\tlearn: 0.2791147\ttotal: 19.6s\tremaining: 58.9s\n",
      "10:\tlearn: 0.2697044\ttotal: 21.3s\tremaining: 56s\n",
      "11:\tlearn: 0.2619188\ttotal: 22.8s\tremaining: 53.2s\n",
      "12:\tlearn: 0.2555392\ttotal: 24.1s\tremaining: 50.1s\n",
      "13:\tlearn: 0.2499542\ttotal: 26.1s\tremaining: 48.5s\n",
      "14:\tlearn: 0.2454003\ttotal: 30s\tremaining: 50s\n",
      "15:\tlearn: 0.2415229\ttotal: 31.5s\tremaining: 47.3s\n",
      "16:\tlearn: 0.2379865\ttotal: 33.3s\tremaining: 45.1s\n",
      "17:\tlearn: 0.2347276\ttotal: 35.4s\tremaining: 43.3s\n",
      "18:\tlearn: 0.2322673\ttotal: 38s\tremaining: 42s\n",
      "19:\tlearn: 0.2292300\ttotal: 40.2s\tremaining: 40.2s\n",
      "20:\tlearn: 0.2272973\ttotal: 41.9s\tremaining: 37.9s\n",
      "21:\tlearn: 0.2252327\ttotal: 43.4s\tremaining: 35.5s\n",
      "22:\tlearn: 0.2234561\ttotal: 45.5s\tremaining: 33.6s\n",
      "23:\tlearn: 0.2216046\ttotal: 48.2s\tremaining: 32.1s\n",
      "24:\tlearn: 0.2201518\ttotal: 49.8s\tremaining: 29.9s\n",
      "25:\tlearn: 0.2187618\ttotal: 51.3s\tremaining: 27.6s\n",
      "26:\tlearn: 0.2170209\ttotal: 52.9s\tremaining: 25.5s\n",
      "27:\tlearn: 0.2156097\ttotal: 54.4s\tremaining: 23.3s\n",
      "28:\tlearn: 0.2141387\ttotal: 55.9s\tremaining: 21.2s\n",
      "29:\tlearn: 0.2130856\ttotal: 57.3s\tremaining: 19.1s\n",
      "30:\tlearn: 0.2118183\ttotal: 58.7s\tremaining: 17s\n",
      "31:\tlearn: 0.2108444\ttotal: 1m\tremaining: 15.1s\n",
      "32:\tlearn: 0.2098974\ttotal: 1m 1s\tremaining: 13s\n",
      "33:\tlearn: 0.2084498\ttotal: 1m 2s\tremaining: 11.1s\n",
      "34:\tlearn: 0.2075160\ttotal: 1m 4s\tremaining: 9.15s\n",
      "35:\tlearn: 0.2063560\ttotal: 1m 5s\tremaining: 7.25s\n",
      "36:\tlearn: 0.2055535\ttotal: 1m 7s\tremaining: 5.45s\n",
      "37:\tlearn: 0.2046631\ttotal: 1m 10s\tremaining: 3.71s\n",
      "38:\tlearn: 0.2036500\ttotal: 1m 12s\tremaining: 1.85s\n",
      "39:\tlearn: 0.2028419\ttotal: 1m 14s\tremaining: 0us\n",
      "0:\tlearn: 0.5926237\ttotal: 3.54s\tremaining: 2m 17s\n",
      "1:\tlearn: 0.5163423\ttotal: 5.25s\tremaining: 1m 39s\n",
      "2:\tlearn: 0.4542542\ttotal: 6.86s\tremaining: 1m 24s\n",
      "3:\tlearn: 0.4083219\ttotal: 8.94s\tremaining: 1m 20s\n",
      "4:\tlearn: 0.3740614\ttotal: 10.4s\tremaining: 1m 12s\n",
      "5:\tlearn: 0.3458353\ttotal: 11.8s\tremaining: 1m 6s\n",
      "6:\tlearn: 0.3230717\ttotal: 13.7s\tremaining: 1m 4s\n",
      "7:\tlearn: 0.3048180\ttotal: 15.3s\tremaining: 1m 1s\n",
      "8:\tlearn: 0.2902857\ttotal: 17s\tremaining: 58.5s\n",
      "9:\tlearn: 0.2785722\ttotal: 18.2s\tremaining: 54.6s\n",
      "10:\tlearn: 0.2694749\ttotal: 19.6s\tremaining: 51.6s\n",
      "11:\tlearn: 0.2619913\ttotal: 21s\tremaining: 49s\n",
      "12:\tlearn: 0.2555699\ttotal: 22.4s\tremaining: 46.4s\n",
      "13:\tlearn: 0.2498814\ttotal: 23.7s\tremaining: 44s\n",
      "14:\tlearn: 0.2452758\ttotal: 24.9s\tremaining: 41.6s\n",
      "15:\tlearn: 0.2402883\ttotal: 26.3s\tremaining: 39.5s\n",
      "16:\tlearn: 0.2367516\ttotal: 27.9s\tremaining: 37.7s\n",
      "17:\tlearn: 0.2339833\ttotal: 29.2s\tremaining: 35.7s\n",
      "18:\tlearn: 0.2305377\ttotal: 30.7s\tremaining: 34s\n",
      "19:\tlearn: 0.2281316\ttotal: 32.1s\tremaining: 32.1s\n",
      "20:\tlearn: 0.2258335\ttotal: 33.4s\tremaining: 30.2s\n",
      "21:\tlearn: 0.2240323\ttotal: 34.8s\tremaining: 28.5s\n",
      "22:\tlearn: 0.2223718\ttotal: 36.2s\tremaining: 26.8s\n",
      "23:\tlearn: 0.2207457\ttotal: 37.8s\tremaining: 25.2s\n",
      "24:\tlearn: 0.2193612\ttotal: 39.6s\tremaining: 23.7s\n",
      "25:\tlearn: 0.2175378\ttotal: 41s\tremaining: 22.1s\n",
      "26:\tlearn: 0.2156860\ttotal: 42.6s\tremaining: 20.5s\n",
      "27:\tlearn: 0.2145327\ttotal: 44.7s\tremaining: 19.2s\n",
      "28:\tlearn: 0.2134522\ttotal: 46.1s\tremaining: 17.5s\n",
      "29:\tlearn: 0.2120896\ttotal: 48.5s\tremaining: 16.2s\n",
      "30:\tlearn: 0.2110681\ttotal: 50.1s\tremaining: 14.5s\n",
      "31:\tlearn: 0.2097546\ttotal: 51.5s\tremaining: 12.9s\n",
      "32:\tlearn: 0.2088275\ttotal: 53s\tremaining: 11.2s\n",
      "33:\tlearn: 0.2075148\ttotal: 54.3s\tremaining: 9.57s\n",
      "34:\tlearn: 0.2066390\ttotal: 55.7s\tremaining: 7.95s\n",
      "35:\tlearn: 0.2058843\ttotal: 57.3s\tremaining: 6.37s\n",
      "36:\tlearn: 0.2050616\ttotal: 58.7s\tremaining: 4.76s\n",
      "37:\tlearn: 0.2042837\ttotal: 1m\tremaining: 3.16s\n",
      "38:\tlearn: 0.2033128\ttotal: 1m 1s\tremaining: 1.57s\n",
      "39:\tlearn: 0.2023048\ttotal: 1m 3s\tremaining: 0us\n",
      "0:\tlearn: 0.5939429\ttotal: 2.4s\tremaining: 1m 33s\n",
      "1:\tlearn: 0.5183331\ttotal: 4.59s\tremaining: 1m 27s\n",
      "2:\tlearn: 0.4616284\ttotal: 6.49s\tremaining: 1m 20s\n",
      "3:\tlearn: 0.4137906\ttotal: 7.84s\tremaining: 1m 10s\n",
      "4:\tlearn: 0.3763662\ttotal: 9.09s\tremaining: 1m 3s\n",
      "5:\tlearn: 0.3474195\ttotal: 10.4s\tremaining: 59s\n",
      "6:\tlearn: 0.3245326\ttotal: 11.8s\tremaining: 55.6s\n",
      "7:\tlearn: 0.3063396\ttotal: 13.4s\tremaining: 53.6s\n",
      "8:\tlearn: 0.2921139\ttotal: 14.7s\tremaining: 50.6s\n",
      "9:\tlearn: 0.2790390\ttotal: 16s\tremaining: 47.9s\n",
      "10:\tlearn: 0.2695440\ttotal: 17.7s\tremaining: 46.8s\n",
      "11:\tlearn: 0.2618796\ttotal: 19s\tremaining: 44.4s\n",
      "12:\tlearn: 0.2556178\ttotal: 20.2s\tremaining: 42s\n",
      "13:\tlearn: 0.2496003\ttotal: 21.8s\tremaining: 40.4s\n",
      "14:\tlearn: 0.2448353\ttotal: 23.1s\tremaining: 38.5s\n",
      "15:\tlearn: 0.2412070\ttotal: 24.5s\tremaining: 36.8s\n",
      "16:\tlearn: 0.2378149\ttotal: 25.8s\tremaining: 34.9s\n",
      "17:\tlearn: 0.2347732\ttotal: 27.2s\tremaining: 33.2s\n",
      "18:\tlearn: 0.2323917\ttotal: 28.6s\tremaining: 31.6s\n",
      "19:\tlearn: 0.2301276\ttotal: 29.9s\tremaining: 29.9s\n",
      "20:\tlearn: 0.2279727\ttotal: 31.2s\tremaining: 28.3s\n",
      "21:\tlearn: 0.2260463\ttotal: 32.5s\tremaining: 26.6s\n",
      "22:\tlearn: 0.2242355\ttotal: 33.8s\tremaining: 25s\n",
      "23:\tlearn: 0.2225291\ttotal: 35.2s\tremaining: 23.4s\n",
      "24:\tlearn: 0.2208637\ttotal: 36.7s\tremaining: 22s\n",
      "25:\tlearn: 0.2192829\ttotal: 38.1s\tremaining: 20.5s\n",
      "26:\tlearn: 0.2179616\ttotal: 39.5s\tremaining: 19s\n",
      "27:\tlearn: 0.2165843\ttotal: 40.9s\tremaining: 17.5s\n",
      "28:\tlearn: 0.2153887\ttotal: 42.3s\tremaining: 16.1s\n",
      "29:\tlearn: 0.2136305\ttotal: 43.7s\tremaining: 14.6s\n",
      "30:\tlearn: 0.2123138\ttotal: 45.5s\tremaining: 13.2s\n",
      "31:\tlearn: 0.2112684\ttotal: 46.9s\tremaining: 11.7s\n",
      "32:\tlearn: 0.2099427\ttotal: 48.7s\tremaining: 10.3s\n",
      "33:\tlearn: 0.2086088\ttotal: 50.2s\tremaining: 8.86s\n",
      "34:\tlearn: 0.2076530\ttotal: 51.5s\tremaining: 7.35s\n",
      "35:\tlearn: 0.2063587\ttotal: 53.1s\tremaining: 5.91s\n",
      "36:\tlearn: 0.2055096\ttotal: 54.4s\tremaining: 4.41s\n",
      "37:\tlearn: 0.2044671\ttotal: 55.7s\tremaining: 2.93s\n",
      "38:\tlearn: 0.2032669\ttotal: 57.1s\tremaining: 1.46s\n",
      "39:\tlearn: 0.2024803\ttotal: 58.6s\tremaining: 0us\n",
      "0:\tlearn: 0.4408546\ttotal: 2.42s\tremaining: 1m 34s\n",
      "1:\tlearn: 0.3364933\ttotal: 4.01s\tremaining: 1m 16s\n",
      "2:\tlearn: 0.2847566\ttotal: 5.32s\tremaining: 1m 5s\n",
      "3:\tlearn: 0.2574013\ttotal: 6.85s\tremaining: 1m 1s\n",
      "4:\tlearn: 0.2428040\ttotal: 8.29s\tremaining: 58.1s\n",
      "5:\tlearn: 0.2310029\ttotal: 9.85s\tremaining: 55.8s\n",
      "6:\tlearn: 0.2245343\ttotal: 11.3s\tremaining: 53.1s\n",
      "7:\tlearn: 0.2190031\ttotal: 12.7s\tremaining: 50.9s\n",
      "8:\tlearn: 0.2149138\ttotal: 14.2s\tremaining: 49s\n",
      "9:\tlearn: 0.2105801\ttotal: 15.7s\tremaining: 47.1s\n",
      "10:\tlearn: 0.2072724\ttotal: 17.2s\tremaining: 45.3s\n",
      "11:\tlearn: 0.2044469\ttotal: 19.6s\tremaining: 45.7s\n",
      "12:\tlearn: 0.2000763\ttotal: 21.2s\tremaining: 44.1s\n",
      "13:\tlearn: 0.1972702\ttotal: 22.6s\tremaining: 42s\n",
      "14:\tlearn: 0.1954904\ttotal: 24.1s\tremaining: 40.1s\n",
      "15:\tlearn: 0.1936124\ttotal: 25.7s\tremaining: 38.5s\n",
      "16:\tlearn: 0.1916510\ttotal: 27.1s\tremaining: 36.7s\n",
      "17:\tlearn: 0.1894046\ttotal: 29.1s\tremaining: 35.6s\n",
      "18:\tlearn: 0.1875594\ttotal: 30.7s\tremaining: 33.9s\n",
      "19:\tlearn: 0.1854031\ttotal: 32.1s\tremaining: 32.1s\n",
      "20:\tlearn: 0.1834818\ttotal: 33.7s\tremaining: 30.5s\n",
      "21:\tlearn: 0.1820463\ttotal: 35s\tremaining: 28.7s\n",
      "22:\tlearn: 0.1805133\ttotal: 36.4s\tremaining: 26.9s\n",
      "23:\tlearn: 0.1789856\ttotal: 37.8s\tremaining: 25.2s\n",
      "24:\tlearn: 0.1777677\ttotal: 39.3s\tremaining: 23.6s\n",
      "25:\tlearn: 0.1766430\ttotal: 41s\tremaining: 22.1s\n",
      "26:\tlearn: 0.1754400\ttotal: 43.1s\tremaining: 20.8s\n",
      "27:\tlearn: 0.1736923\ttotal: 44.8s\tremaining: 19.2s\n",
      "28:\tlearn: 0.1726997\ttotal: 46.4s\tremaining: 17.6s\n",
      "29:\tlearn: 0.1716841\ttotal: 47.8s\tremaining: 15.9s\n",
      "30:\tlearn: 0.1707755\ttotal: 49s\tremaining: 14.2s\n",
      "31:\tlearn: 0.1699798\ttotal: 50.3s\tremaining: 12.6s\n",
      "32:\tlearn: 0.1690738\ttotal: 52.2s\tremaining: 11.1s\n",
      "33:\tlearn: 0.1682322\ttotal: 54.7s\tremaining: 9.66s\n",
      "34:\tlearn: 0.1671928\ttotal: 57.5s\tremaining: 8.22s\n",
      "35:\tlearn: 0.1665513\ttotal: 59.4s\tremaining: 6.59s\n",
      "36:\tlearn: 0.1657600\ttotal: 1m\tremaining: 4.94s\n",
      "37:\tlearn: 0.1646481\ttotal: 1m 2s\tremaining: 3.28s\n",
      "38:\tlearn: 0.1636286\ttotal: 1m 3s\tremaining: 1.64s\n",
      "39:\tlearn: 0.1628628\ttotal: 1m 5s\tremaining: 0us\n",
      "0:\tlearn: 0.4391716\ttotal: 2.46s\tremaining: 1m 35s\n",
      "1:\tlearn: 0.3338816\ttotal: 4.05s\tremaining: 1m 16s\n",
      "2:\tlearn: 0.2817460\ttotal: 5.32s\tremaining: 1m 5s\n",
      "3:\tlearn: 0.2556833\ttotal: 7s\tremaining: 1m 3s\n",
      "4:\tlearn: 0.2387147\ttotal: 8.45s\tremaining: 59.2s\n",
      "5:\tlearn: 0.2293371\ttotal: 10.5s\tremaining: 59.5s\n",
      "6:\tlearn: 0.2227093\ttotal: 12.4s\tremaining: 58.4s\n",
      "7:\tlearn: 0.2174192\ttotal: 14.6s\tremaining: 58.6s\n",
      "8:\tlearn: 0.2126394\ttotal: 17.1s\tremaining: 59s\n",
      "9:\tlearn: 0.2093301\ttotal: 18.8s\tremaining: 56.5s\n",
      "10:\tlearn: 0.2057444\ttotal: 20.9s\tremaining: 55.2s\n",
      "11:\tlearn: 0.2030823\ttotal: 23.1s\tremaining: 54s\n",
      "12:\tlearn: 0.2006431\ttotal: 24.9s\tremaining: 51.6s\n",
      "13:\tlearn: 0.1984051\ttotal: 26.5s\tremaining: 49.2s\n",
      "14:\tlearn: 0.1946389\ttotal: 28.2s\tremaining: 47s\n",
      "15:\tlearn: 0.1925636\ttotal: 29.7s\tremaining: 44.6s\n",
      "16:\tlearn: 0.1901323\ttotal: 31.6s\tremaining: 42.8s\n",
      "17:\tlearn: 0.1879302\ttotal: 33.2s\tremaining: 40.6s\n",
      "18:\tlearn: 0.1863549\ttotal: 35.1s\tremaining: 38.8s\n",
      "19:\tlearn: 0.1844847\ttotal: 37s\tremaining: 37s\n",
      "20:\tlearn: 0.1832741\ttotal: 38.6s\tremaining: 34.9s\n",
      "21:\tlearn: 0.1818297\ttotal: 40.4s\tremaining: 33.1s\n",
      "22:\tlearn: 0.1805295\ttotal: 43.8s\tremaining: 32.4s\n",
      "23:\tlearn: 0.1792458\ttotal: 46.3s\tremaining: 30.8s\n",
      "24:\tlearn: 0.1780793\ttotal: 50.5s\tremaining: 30.3s\n",
      "25:\tlearn: 0.1765369\ttotal: 56.2s\tremaining: 30.2s\n",
      "26:\tlearn: 0.1753936\ttotal: 1m 1s\tremaining: 29.6s\n",
      "27:\tlearn: 0.1743139\ttotal: 1m 5s\tremaining: 28.2s\n",
      "28:\tlearn: 0.1733233\ttotal: 1m 9s\tremaining: 26.2s\n",
      "29:\tlearn: 0.1725589\ttotal: 1m 16s\tremaining: 25.4s\n",
      "30:\tlearn: 0.1714650\ttotal: 1m 21s\tremaining: 23.6s\n",
      "31:\tlearn: 0.1705193\ttotal: 1m 25s\tremaining: 21.4s\n",
      "32:\tlearn: 0.1696152\ttotal: 1m 28s\tremaining: 18.7s\n",
      "33:\tlearn: 0.1686447\ttotal: 1m 32s\tremaining: 16.3s\n",
      "34:\tlearn: 0.1676425\ttotal: 1m 35s\tremaining: 13.6s\n",
      "35:\tlearn: 0.1668958\ttotal: 1m 37s\tremaining: 10.8s\n",
      "36:\tlearn: 0.1658809\ttotal: 1m 39s\tremaining: 8.05s\n",
      "37:\tlearn: 0.1643283\ttotal: 1m 41s\tremaining: 5.32s\n",
      "38:\tlearn: 0.1635947\ttotal: 1m 43s\tremaining: 2.64s\n",
      "39:\tlearn: 0.1628095\ttotal: 1m 44s\tremaining: 0us\n",
      "0:\tlearn: 0.4420928\ttotal: 2.63s\tremaining: 1m 42s\n",
      "1:\tlearn: 0.3355088\ttotal: 4.61s\tremaining: 1m 27s\n",
      "2:\tlearn: 0.2837401\ttotal: 6.14s\tremaining: 1m 15s\n",
      "3:\tlearn: 0.2576221\ttotal: 7.62s\tremaining: 1m 8s\n",
      "4:\tlearn: 0.2433400\ttotal: 9.19s\tremaining: 1m 4s\n",
      "5:\tlearn: 0.2319937\ttotal: 10.7s\tremaining: 1m\n",
      "6:\tlearn: 0.2246165\ttotal: 12.2s\tremaining: 57.4s\n",
      "7:\tlearn: 0.2191415\ttotal: 13.7s\tremaining: 54.7s\n",
      "8:\tlearn: 0.2150185\ttotal: 15.2s\tremaining: 52.4s\n",
      "9:\tlearn: 0.2112210\ttotal: 16.6s\tremaining: 49.9s\n",
      "10:\tlearn: 0.2081257\ttotal: 18.1s\tremaining: 47.8s\n",
      "11:\tlearn: 0.2053806\ttotal: 19.7s\tremaining: 46s\n",
      "12:\tlearn: 0.2017621\ttotal: 21.3s\tremaining: 44.2s\n",
      "13:\tlearn: 0.1987724\ttotal: 23.4s\tremaining: 43.4s\n",
      "14:\tlearn: 0.1961911\ttotal: 25s\tremaining: 41.6s\n",
      "15:\tlearn: 0.1936922\ttotal: 26.4s\tremaining: 39.7s\n",
      "16:\tlearn: 0.1911630\ttotal: 27.9s\tremaining: 37.7s\n",
      "17:\tlearn: 0.1893620\ttotal: 29.4s\tremaining: 36s\n",
      "18:\tlearn: 0.1870452\ttotal: 31.1s\tremaining: 34.4s\n",
      "19:\tlearn: 0.1857339\ttotal: 32.6s\tremaining: 32.6s\n",
      "20:\tlearn: 0.1842248\ttotal: 34.1s\tremaining: 30.9s\n",
      "21:\tlearn: 0.1828237\ttotal: 35.6s\tremaining: 29.1s\n",
      "22:\tlearn: 0.1811947\ttotal: 37.1s\tremaining: 27.4s\n",
      "23:\tlearn: 0.1793983\ttotal: 38.6s\tremaining: 25.8s\n",
      "24:\tlearn: 0.1780233\ttotal: 40.2s\tremaining: 24.1s\n",
      "25:\tlearn: 0.1768381\ttotal: 41.6s\tremaining: 22.4s\n",
      "26:\tlearn: 0.1756239\ttotal: 43.1s\tremaining: 20.8s\n",
      "27:\tlearn: 0.1744858\ttotal: 44.7s\tremaining: 19.2s\n",
      "28:\tlearn: 0.1731333\ttotal: 46.2s\tremaining: 17.5s\n",
      "29:\tlearn: 0.1722351\ttotal: 47.7s\tremaining: 15.9s\n",
      "30:\tlearn: 0.1714951\ttotal: 49.1s\tremaining: 14.3s\n",
      "31:\tlearn: 0.1702736\ttotal: 50.7s\tremaining: 12.7s\n",
      "32:\tlearn: 0.1694418\ttotal: 52.6s\tremaining: 11.2s\n",
      "33:\tlearn: 0.1685698\ttotal: 54.7s\tremaining: 9.66s\n",
      "34:\tlearn: 0.1674071\ttotal: 56.3s\tremaining: 8.04s\n",
      "35:\tlearn: 0.1664484\ttotal: 57.7s\tremaining: 6.42s\n",
      "36:\tlearn: 0.1656536\ttotal: 59.2s\tremaining: 4.8s\n",
      "37:\tlearn: 0.1649483\ttotal: 1m 1s\tremaining: 3.23s\n",
      "38:\tlearn: 0.1635390\ttotal: 1m 4s\tremaining: 1.65s\n",
      "39:\tlearn: 0.1623962\ttotal: 1m 6s\tremaining: 0us\n",
      "0:\tlearn: 0.3436525\ttotal: 4.96s\tremaining: 3m 13s\n",
      "1:\tlearn: 0.2648715\ttotal: 8.71s\tremaining: 2m 45s\n",
      "2:\tlearn: 0.2396721\ttotal: 10.9s\tremaining: 2m 14s\n",
      "3:\tlearn: 0.2272722\ttotal: 13.9s\tremaining: 2m 5s\n",
      "4:\tlearn: 0.2163578\ttotal: 15.4s\tremaining: 1m 47s\n",
      "5:\tlearn: 0.2097508\ttotal: 16.9s\tremaining: 1m 35s\n",
      "6:\tlearn: 0.2047655\ttotal: 18.7s\tremaining: 1m 28s\n",
      "7:\tlearn: 0.2002983\ttotal: 20.3s\tremaining: 1m 21s\n",
      "8:\tlearn: 0.1967345\ttotal: 21.7s\tremaining: 1m 14s\n",
      "9:\tlearn: 0.1916450\ttotal: 23.2s\tremaining: 1m 9s\n",
      "10:\tlearn: 0.1878447\ttotal: 24.6s\tremaining: 1m 4s\n",
      "11:\tlearn: 0.1856288\ttotal: 26s\tremaining: 1m\n",
      "12:\tlearn: 0.1818522\ttotal: 27.4s\tremaining: 56.9s\n",
      "13:\tlearn: 0.1790889\ttotal: 28.8s\tremaining: 53.5s\n",
      "14:\tlearn: 0.1767499\ttotal: 30.6s\tremaining: 50.9s\n",
      "15:\tlearn: 0.1745677\ttotal: 31.8s\tremaining: 47.6s\n",
      "16:\tlearn: 0.1729594\ttotal: 32.9s\tremaining: 44.5s\n",
      "17:\tlearn: 0.1712783\ttotal: 34.3s\tremaining: 42s\n",
      "18:\tlearn: 0.1690935\ttotal: 35.8s\tremaining: 39.6s\n",
      "19:\tlearn: 0.1660135\ttotal: 37.2s\tremaining: 37.2s\n",
      "20:\tlearn: 0.1646502\ttotal: 38.6s\tremaining: 34.9s\n",
      "21:\tlearn: 0.1631217\ttotal: 39.9s\tremaining: 32.7s\n",
      "22:\tlearn: 0.1618394\ttotal: 41.2s\tremaining: 30.4s\n",
      "23:\tlearn: 0.1605816\ttotal: 42.5s\tremaining: 28.3s\n",
      "24:\tlearn: 0.1588850\ttotal: 43.7s\tremaining: 26.2s\n",
      "25:\tlearn: 0.1577349\ttotal: 44.8s\tremaining: 24.1s\n",
      "26:\tlearn: 0.1564033\ttotal: 46.9s\tremaining: 22.6s\n",
      "27:\tlearn: 0.1553599\ttotal: 51.2s\tremaining: 21.9s\n",
      "28:\tlearn: 0.1540363\ttotal: 53.2s\tremaining: 20.2s\n",
      "29:\tlearn: 0.1528644\ttotal: 54.9s\tremaining: 18.3s\n",
      "30:\tlearn: 0.1519211\ttotal: 56.2s\tremaining: 16.3s\n",
      "31:\tlearn: 0.1509734\ttotal: 57.7s\tremaining: 14.4s\n",
      "32:\tlearn: 0.1500101\ttotal: 59.4s\tremaining: 12.6s\n",
      "33:\tlearn: 0.1492099\ttotal: 1m 1s\tremaining: 10.8s\n",
      "34:\tlearn: 0.1482364\ttotal: 1m 3s\tremaining: 9.01s\n",
      "35:\tlearn: 0.1470762\ttotal: 1m 4s\tremaining: 7.16s\n",
      "36:\tlearn: 0.1461056\ttotal: 1m 5s\tremaining: 5.34s\n",
      "37:\tlearn: 0.1453589\ttotal: 1m 7s\tremaining: 3.54s\n",
      "38:\tlearn: 0.1448510\ttotal: 1m 8s\tremaining: 1.75s\n",
      "39:\tlearn: 0.1436191\ttotal: 1m 10s\tremaining: 0us\n",
      "0:\tlearn: 0.3414917\ttotal: 2.26s\tremaining: 1m 28s\n",
      "1:\tlearn: 0.2607262\ttotal: 3.67s\tremaining: 1m 9s\n",
      "2:\tlearn: 0.2354448\ttotal: 5.5s\tremaining: 1m 7s\n",
      "3:\tlearn: 0.2230097\ttotal: 7.21s\tremaining: 1m 4s\n",
      "4:\tlearn: 0.2127704\ttotal: 8.74s\tremaining: 1m 1s\n",
      "5:\tlearn: 0.2069010\ttotal: 9.98s\tremaining: 56.6s\n",
      "6:\tlearn: 0.2024027\ttotal: 11.2s\tremaining: 52.9s\n",
      "7:\tlearn: 0.1985196\ttotal: 12.5s\tremaining: 49.8s\n",
      "8:\tlearn: 0.1944092\ttotal: 13.8s\tremaining: 47.5s\n",
      "9:\tlearn: 0.1911668\ttotal: 15s\tremaining: 45.1s\n",
      "10:\tlearn: 0.1877042\ttotal: 16.3s\tremaining: 43.1s\n",
      "11:\tlearn: 0.1843591\ttotal: 17.6s\tremaining: 41.1s\n",
      "12:\tlearn: 0.1805193\ttotal: 18.9s\tremaining: 39.2s\n",
      "13:\tlearn: 0.1784543\ttotal: 20.1s\tremaining: 37.4s\n",
      "14:\tlearn: 0.1766304\ttotal: 21.4s\tremaining: 35.7s\n",
      "15:\tlearn: 0.1744149\ttotal: 22.6s\tremaining: 33.9s\n",
      "16:\tlearn: 0.1726839\ttotal: 23.8s\tremaining: 32.1s\n",
      "17:\tlearn: 0.1702646\ttotal: 25s\tremaining: 30.6s\n",
      "18:\tlearn: 0.1689135\ttotal: 26.2s\tremaining: 29s\n",
      "19:\tlearn: 0.1668947\ttotal: 27.4s\tremaining: 27.4s\n",
      "20:\tlearn: 0.1657073\ttotal: 29.4s\tremaining: 26.6s\n",
      "21:\tlearn: 0.1646146\ttotal: 31s\tremaining: 25.3s\n",
      "22:\tlearn: 0.1632332\ttotal: 32.6s\tremaining: 24.1s\n",
      "23:\tlearn: 0.1618222\ttotal: 34.3s\tremaining: 22.9s\n",
      "24:\tlearn: 0.1599820\ttotal: 38.4s\tremaining: 23s\n",
      "25:\tlearn: 0.1588897\ttotal: 42.6s\tremaining: 23s\n",
      "26:\tlearn: 0.1576969\ttotal: 44.2s\tremaining: 21.3s\n",
      "27:\tlearn: 0.1567310\ttotal: 46.3s\tremaining: 19.8s\n",
      "28:\tlearn: 0.1551458\ttotal: 48.5s\tremaining: 18.4s\n",
      "29:\tlearn: 0.1544137\ttotal: 50s\tremaining: 16.7s\n",
      "30:\tlearn: 0.1534009\ttotal: 52s\tremaining: 15.1s\n",
      "31:\tlearn: 0.1525867\ttotal: 53.8s\tremaining: 13.4s\n",
      "32:\tlearn: 0.1515124\ttotal: 55s\tremaining: 11.7s\n",
      "33:\tlearn: 0.1503121\ttotal: 56.6s\tremaining: 9.99s\n",
      "34:\tlearn: 0.1495056\ttotal: 58.1s\tremaining: 8.3s\n",
      "35:\tlearn: 0.1481273\ttotal: 59.9s\tremaining: 6.65s\n",
      "36:\tlearn: 0.1473170\ttotal: 1m 1s\tremaining: 4.96s\n",
      "37:\tlearn: 0.1465145\ttotal: 1m 2s\tremaining: 3.29s\n",
      "38:\tlearn: 0.1454871\ttotal: 1m 3s\tremaining: 1.64s\n",
      "39:\tlearn: 0.1448865\ttotal: 1m 5s\tremaining: 0us\n",
      "0:\tlearn: 0.3448973\ttotal: 2.05s\tremaining: 1m 19s\n",
      "1:\tlearn: 0.2625103\ttotal: 3.51s\tremaining: 1m 6s\n",
      "2:\tlearn: 0.2348399\ttotal: 4.84s\tremaining: 59.7s\n",
      "3:\tlearn: 0.2237317\ttotal: 6.42s\tremaining: 57.8s\n",
      "4:\tlearn: 0.2147681\ttotal: 8.24s\tremaining: 57.7s\n",
      "5:\tlearn: 0.2085412\ttotal: 9.85s\tremaining: 55.8s\n",
      "6:\tlearn: 0.2028042\ttotal: 11.4s\tremaining: 53.6s\n",
      "7:\tlearn: 0.1985961\ttotal: 12.8s\tremaining: 51.2s\n",
      "8:\tlearn: 0.1947930\ttotal: 14.3s\tremaining: 49.4s\n",
      "9:\tlearn: 0.1909380\ttotal: 15.6s\tremaining: 46.8s\n",
      "10:\tlearn: 0.1864864\ttotal: 17.3s\tremaining: 45.7s\n",
      "11:\tlearn: 0.1837110\ttotal: 18.6s\tremaining: 43.4s\n",
      "12:\tlearn: 0.1813016\ttotal: 20.1s\tremaining: 41.7s\n",
      "13:\tlearn: 0.1790961\ttotal: 21.4s\tremaining: 39.7s\n",
      "14:\tlearn: 0.1762766\ttotal: 22.6s\tremaining: 37.6s\n",
      "15:\tlearn: 0.1742943\ttotal: 24s\tremaining: 36s\n",
      "16:\tlearn: 0.1725091\ttotal: 26.7s\tremaining: 36.1s\n",
      "17:\tlearn: 0.1707507\ttotal: 28s\tremaining: 34.2s\n",
      "18:\tlearn: 0.1686719\ttotal: 29.4s\tremaining: 32.5s\n",
      "19:\tlearn: 0.1675496\ttotal: 31s\tremaining: 31s\n",
      "20:\tlearn: 0.1659958\ttotal: 32.3s\tremaining: 29.3s\n",
      "21:\tlearn: 0.1640136\ttotal: 33.7s\tremaining: 27.6s\n",
      "22:\tlearn: 0.1624521\ttotal: 35.1s\tremaining: 25.9s\n",
      "23:\tlearn: 0.1608197\ttotal: 36.4s\tremaining: 24.3s\n",
      "24:\tlearn: 0.1597076\ttotal: 37.7s\tremaining: 22.6s\n",
      "25:\tlearn: 0.1584431\ttotal: 39s\tremaining: 21s\n",
      "26:\tlearn: 0.1571265\ttotal: 40.3s\tremaining: 19.4s\n",
      "27:\tlearn: 0.1559986\ttotal: 41.8s\tremaining: 17.9s\n",
      "28:\tlearn: 0.1548845\ttotal: 43.2s\tremaining: 16.4s\n",
      "29:\tlearn: 0.1537099\ttotal: 44.5s\tremaining: 14.8s\n",
      "30:\tlearn: 0.1525716\ttotal: 45.9s\tremaining: 13.3s\n",
      "31:\tlearn: 0.1514639\ttotal: 47.3s\tremaining: 11.8s\n",
      "32:\tlearn: 0.1507020\ttotal: 48.8s\tremaining: 10.4s\n",
      "33:\tlearn: 0.1497342\ttotal: 50.4s\tremaining: 8.89s\n",
      "34:\tlearn: 0.1489355\ttotal: 52.1s\tremaining: 7.44s\n",
      "35:\tlearn: 0.1478978\ttotal: 53.7s\tremaining: 5.96s\n",
      "36:\tlearn: 0.1470023\ttotal: 55.3s\tremaining: 4.49s\n",
      "37:\tlearn: 0.1464388\ttotal: 56.8s\tremaining: 2.99s\n",
      "38:\tlearn: 0.1455477\ttotal: 58.6s\tremaining: 1.5s\n",
      "39:\tlearn: 0.1448880\ttotal: 1m\tremaining: 0us\n",
      "0:\tlearn: 0.2900132\ttotal: 2.09s\tremaining: 1m 21s\n",
      "1:\tlearn: 0.2432852\ttotal: 3.55s\tremaining: 1m 7s\n",
      "2:\tlearn: 0.2262020\ttotal: 4.92s\tremaining: 1m\n",
      "3:\tlearn: 0.2124883\ttotal: 6.19s\tremaining: 55.7s\n",
      "4:\tlearn: 0.2043814\ttotal: 7.37s\tremaining: 51.6s\n",
      "5:\tlearn: 0.1983427\ttotal: 8.67s\tremaining: 49.1s\n",
      "6:\tlearn: 0.1925858\ttotal: 10.5s\tremaining: 49.7s\n",
      "7:\tlearn: 0.1882851\ttotal: 12.3s\tremaining: 49.4s\n",
      "8:\tlearn: 0.1839932\ttotal: 14.1s\tremaining: 48.6s\n",
      "9:\tlearn: 0.1799046\ttotal: 15.6s\tremaining: 46.9s\n",
      "10:\tlearn: 0.1753006\ttotal: 16.9s\tremaining: 44.6s\n",
      "11:\tlearn: 0.1716290\ttotal: 18.3s\tremaining: 42.7s\n",
      "12:\tlearn: 0.1695336\ttotal: 19.7s\tremaining: 40.9s\n",
      "13:\tlearn: 0.1663433\ttotal: 21s\tremaining: 39.1s\n",
      "14:\tlearn: 0.1640191\ttotal: 22.3s\tremaining: 37.1s\n",
      "15:\tlearn: 0.1623799\ttotal: 23.7s\tremaining: 35.5s\n",
      "16:\tlearn: 0.1605577\ttotal: 24.8s\tremaining: 33.5s\n",
      "17:\tlearn: 0.1580853\ttotal: 26s\tremaining: 31.7s\n",
      "18:\tlearn: 0.1566339\ttotal: 27.2s\tremaining: 30.1s\n",
      "19:\tlearn: 0.1551318\ttotal: 28.4s\tremaining: 28.4s\n",
      "20:\tlearn: 0.1530552\ttotal: 29.7s\tremaining: 26.9s\n",
      "21:\tlearn: 0.1519412\ttotal: 31.1s\tremaining: 25.5s\n",
      "22:\tlearn: 0.1506024\ttotal: 32.3s\tremaining: 23.9s\n",
      "23:\tlearn: 0.1493384\ttotal: 33.7s\tremaining: 22.5s\n",
      "24:\tlearn: 0.1482083\ttotal: 35.1s\tremaining: 21s\n",
      "25:\tlearn: 0.1473172\ttotal: 36.5s\tremaining: 19.6s\n",
      "26:\tlearn: 0.1458254\ttotal: 38s\tremaining: 18.3s\n",
      "27:\tlearn: 0.1446164\ttotal: 39.2s\tremaining: 16.8s\n",
      "28:\tlearn: 0.1434712\ttotal: 40.5s\tremaining: 15.4s\n",
      "29:\tlearn: 0.1427642\ttotal: 41.9s\tremaining: 14s\n",
      "30:\tlearn: 0.1415948\ttotal: 43.2s\tremaining: 12.5s\n",
      "31:\tlearn: 0.1409636\ttotal: 44.4s\tremaining: 11.1s\n",
      "32:\tlearn: 0.1402058\ttotal: 45.6s\tremaining: 9.68s\n",
      "33:\tlearn: 0.1395661\ttotal: 46.8s\tremaining: 8.26s\n",
      "34:\tlearn: 0.1384026\ttotal: 48.1s\tremaining: 6.87s\n",
      "35:\tlearn: 0.1375870\ttotal: 49.3s\tremaining: 5.48s\n",
      "36:\tlearn: 0.1369915\ttotal: 50.6s\tremaining: 4.11s\n",
      "37:\tlearn: 0.1361974\ttotal: 52.2s\tremaining: 2.75s\n",
      "38:\tlearn: 0.1356386\ttotal: 53.8s\tremaining: 1.38s\n",
      "39:\tlearn: 0.1347422\ttotal: 55.7s\tremaining: 0us\n",
      "0:\tlearn: 0.2876736\ttotal: 1.42s\tremaining: 55.4s\n",
      "1:\tlearn: 0.2377590\ttotal: 2.69s\tremaining: 51.1s\n",
      "2:\tlearn: 0.2209665\ttotal: 3.85s\tremaining: 47.5s\n",
      "3:\tlearn: 0.2076199\ttotal: 6.28s\tremaining: 56.6s\n",
      "4:\tlearn: 0.2012099\ttotal: 8.25s\tremaining: 57.7s\n",
      "5:\tlearn: 0.1950206\ttotal: 10.1s\tremaining: 57.1s\n",
      "6:\tlearn: 0.1905004\ttotal: 11.6s\tremaining: 54.9s\n",
      "7:\tlearn: 0.1851516\ttotal: 13s\tremaining: 52.2s\n",
      "8:\tlearn: 0.1806956\ttotal: 14.6s\tremaining: 50.3s\n",
      "9:\tlearn: 0.1772916\ttotal: 16s\tremaining: 47.9s\n",
      "10:\tlearn: 0.1735815\ttotal: 17.3s\tremaining: 45.7s\n",
      "11:\tlearn: 0.1703252\ttotal: 18.6s\tremaining: 43.5s\n",
      "12:\tlearn: 0.1681495\ttotal: 20.1s\tremaining: 41.7s\n",
      "13:\tlearn: 0.1664306\ttotal: 21.4s\tremaining: 39.7s\n",
      "14:\tlearn: 0.1643740\ttotal: 22.7s\tremaining: 37.9s\n",
      "15:\tlearn: 0.1626401\ttotal: 24.2s\tremaining: 36.2s\n",
      "16:\tlearn: 0.1609241\ttotal: 25.4s\tremaining: 34.4s\n",
      "17:\tlearn: 0.1592133\ttotal: 26.9s\tremaining: 32.9s\n",
      "18:\tlearn: 0.1576144\ttotal: 28.2s\tremaining: 31.2s\n",
      "19:\tlearn: 0.1561689\ttotal: 32s\tremaining: 32s\n",
      "20:\tlearn: 0.1551652\ttotal: 37.8s\tremaining: 34.2s\n",
      "21:\tlearn: 0.1538389\ttotal: 45.6s\tremaining: 37.3s\n",
      "22:\tlearn: 0.1522906\ttotal: 54.9s\tremaining: 40.6s\n",
      "23:\tlearn: 0.1513317\ttotal: 1m 2s\tremaining: 41.4s\n",
      "24:\tlearn: 0.1500388\ttotal: 1m 5s\tremaining: 39.2s\n",
      "25:\tlearn: 0.1486944\ttotal: 1m 8s\tremaining: 37s\n",
      "26:\tlearn: 0.1474417\ttotal: 1m 10s\tremaining: 33.9s\n",
      "27:\tlearn: 0.1465565\ttotal: 1m 12s\tremaining: 31s\n",
      "28:\tlearn: 0.1450636\ttotal: 1m 13s\tremaining: 28s\n",
      "29:\tlearn: 0.1433038\ttotal: 1m 15s\tremaining: 25.2s\n",
      "30:\tlearn: 0.1423670\ttotal: 1m 17s\tremaining: 22.4s\n",
      "31:\tlearn: 0.1414829\ttotal: 1m 18s\tremaining: 19.7s\n",
      "32:\tlearn: 0.1405962\ttotal: 1m 20s\tremaining: 17s\n",
      "33:\tlearn: 0.1398847\ttotal: 1m 21s\tremaining: 14.4s\n",
      "34:\tlearn: 0.1391496\ttotal: 1m 22s\tremaining: 11.8s\n",
      "35:\tlearn: 0.1385701\ttotal: 1m 24s\tremaining: 9.34s\n",
      "36:\tlearn: 0.1380616\ttotal: 1m 25s\tremaining: 6.92s\n",
      "37:\tlearn: 0.1371538\ttotal: 1m 26s\tremaining: 4.55s\n",
      "38:\tlearn: 0.1360142\ttotal: 1m 27s\tremaining: 2.25s\n",
      "39:\tlearn: 0.1354588\ttotal: 1m 29s\tremaining: 0us\n",
      "0:\tlearn: 0.2911529\ttotal: 2.62s\tremaining: 1m 42s\n",
      "1:\tlearn: 0.2419378\ttotal: 4.34s\tremaining: 1m 22s\n",
      "2:\tlearn: 0.2209637\ttotal: 5.85s\tremaining: 1m 12s\n",
      "3:\tlearn: 0.2105109\ttotal: 7.09s\tremaining: 1m 3s\n",
      "4:\tlearn: 0.2030395\ttotal: 8.41s\tremaining: 58.9s\n",
      "5:\tlearn: 0.1969751\ttotal: 9.6s\tremaining: 54.4s\n",
      "6:\tlearn: 0.1916737\ttotal: 10.8s\tremaining: 50.9s\n",
      "7:\tlearn: 0.1863519\ttotal: 12.1s\tremaining: 48.5s\n",
      "8:\tlearn: 0.1820933\ttotal: 13.3s\tremaining: 45.9s\n",
      "9:\tlearn: 0.1771280\ttotal: 14.7s\tremaining: 44.2s\n",
      "10:\tlearn: 0.1745373\ttotal: 16.1s\tremaining: 42.6s\n",
      "11:\tlearn: 0.1718862\ttotal: 17.8s\tremaining: 41.4s\n",
      "12:\tlearn: 0.1696482\ttotal: 19.1s\tremaining: 39.7s\n",
      "13:\tlearn: 0.1672437\ttotal: 20.6s\tremaining: 38.2s\n",
      "14:\tlearn: 0.1637946\ttotal: 22.2s\tremaining: 37s\n",
      "15:\tlearn: 0.1619339\ttotal: 23.8s\tremaining: 35.7s\n",
      "16:\tlearn: 0.1601746\ttotal: 25.3s\tremaining: 34.3s\n",
      "17:\tlearn: 0.1588526\ttotal: 26.5s\tremaining: 32.4s\n",
      "18:\tlearn: 0.1567531\ttotal: 27.7s\tremaining: 30.7s\n",
      "19:\tlearn: 0.1553022\ttotal: 29s\tremaining: 29s\n",
      "20:\tlearn: 0.1539926\ttotal: 30.3s\tremaining: 27.4s\n",
      "21:\tlearn: 0.1527990\ttotal: 31.5s\tremaining: 25.8s\n",
      "22:\tlearn: 0.1513433\ttotal: 32.8s\tremaining: 24.2s\n",
      "23:\tlearn: 0.1497932\ttotal: 34.1s\tremaining: 22.7s\n",
      "24:\tlearn: 0.1489613\ttotal: 35.5s\tremaining: 21.3s\n",
      "25:\tlearn: 0.1476806\ttotal: 36.8s\tremaining: 19.8s\n",
      "26:\tlearn: 0.1465116\ttotal: 38s\tremaining: 18.3s\n",
      "27:\tlearn: 0.1457964\ttotal: 39.5s\tremaining: 16.9s\n",
      "28:\tlearn: 0.1449246\ttotal: 41.7s\tremaining: 15.8s\n",
      "29:\tlearn: 0.1438634\ttotal: 43.8s\tremaining: 14.6s\n",
      "30:\tlearn: 0.1425424\ttotal: 47.4s\tremaining: 13.8s\n",
      "31:\tlearn: 0.1417958\ttotal: 49.5s\tremaining: 12.4s\n",
      "32:\tlearn: 0.1407720\ttotal: 51.9s\tremaining: 11s\n",
      "33:\tlearn: 0.1399375\ttotal: 54.9s\tremaining: 9.68s\n",
      "34:\tlearn: 0.1386884\ttotal: 56.2s\tremaining: 8.03s\n",
      "35:\tlearn: 0.1375189\ttotal: 57.6s\tremaining: 6.4s\n",
      "36:\tlearn: 0.1369114\ttotal: 60s\tremaining: 4.86s\n",
      "37:\tlearn: 0.1361190\ttotal: 1m 1s\tremaining: 3.26s\n",
      "38:\tlearn: 0.1355233\ttotal: 1m 3s\tremaining: 1.62s\n",
      "39:\tlearn: 0.1342472\ttotal: 1m 4s\tremaining: 0us\n",
      "0:\tlearn: 0.2680971\ttotal: 4.08s\tremaining: 2m 39s\n",
      "1:\tlearn: 0.2366972\ttotal: 6.53s\tremaining: 2m 3s\n",
      "2:\tlearn: 0.2190936\ttotal: 8.61s\tremaining: 1m 46s\n",
      "3:\tlearn: 0.2054562\ttotal: 10.3s\tremaining: 1m 32s\n",
      "4:\tlearn: 0.1967754\ttotal: 12.2s\tremaining: 1m 25s\n",
      "5:\tlearn: 0.1909397\ttotal: 14.5s\tremaining: 1m 21s\n",
      "6:\tlearn: 0.1854040\ttotal: 16.5s\tremaining: 1m 17s\n",
      "7:\tlearn: 0.1803137\ttotal: 18.4s\tremaining: 1m 13s\n",
      "8:\tlearn: 0.1763097\ttotal: 19.7s\tremaining: 1m 7s\n",
      "9:\tlearn: 0.1716666\ttotal: 22.5s\tremaining: 1m 7s\n",
      "10:\tlearn: 0.1683999\ttotal: 24.2s\tremaining: 1m 3s\n",
      "11:\tlearn: 0.1659729\ttotal: 26.1s\tremaining: 1m\n",
      "12:\tlearn: 0.1635707\ttotal: 28.3s\tremaining: 58.9s\n",
      "13:\tlearn: 0.1611274\ttotal: 30s\tremaining: 55.8s\n",
      "14:\tlearn: 0.1575093\ttotal: 31.9s\tremaining: 53.2s\n",
      "15:\tlearn: 0.1557665\ttotal: 33.1s\tremaining: 49.7s\n",
      "16:\tlearn: 0.1537733\ttotal: 34.4s\tremaining: 46.5s\n",
      "17:\tlearn: 0.1523189\ttotal: 35.9s\tremaining: 43.8s\n",
      "18:\tlearn: 0.1502122\ttotal: 37.1s\tremaining: 41s\n",
      "19:\tlearn: 0.1489838\ttotal: 38.4s\tremaining: 38.4s\n",
      "20:\tlearn: 0.1473350\ttotal: 39.9s\tremaining: 36.1s\n",
      "21:\tlearn: 0.1461934\ttotal: 41.3s\tremaining: 33.8s\n",
      "22:\tlearn: 0.1452004\ttotal: 42.8s\tremaining: 31.6s\n",
      "23:\tlearn: 0.1438480\ttotal: 44.1s\tremaining: 29.4s\n",
      "24:\tlearn: 0.1423177\ttotal: 45.5s\tremaining: 27.3s\n",
      "25:\tlearn: 0.1415840\ttotal: 46.9s\tremaining: 25.2s\n",
      "26:\tlearn: 0.1404310\ttotal: 48.1s\tremaining: 23.1s\n",
      "27:\tlearn: 0.1396061\ttotal: 49.4s\tremaining: 21.2s\n",
      "28:\tlearn: 0.1387042\ttotal: 50.7s\tremaining: 19.2s\n",
      "29:\tlearn: 0.1375720\ttotal: 52.1s\tremaining: 17.4s\n",
      "30:\tlearn: 0.1368480\ttotal: 53.4s\tremaining: 15.5s\n",
      "31:\tlearn: 0.1360662\ttotal: 54.7s\tremaining: 13.7s\n",
      "32:\tlearn: 0.1351579\ttotal: 56.5s\tremaining: 12s\n",
      "33:\tlearn: 0.1344414\ttotal: 57.7s\tremaining: 10.2s\n",
      "34:\tlearn: 0.1337912\ttotal: 59s\tremaining: 8.43s\n",
      "35:\tlearn: 0.1331517\ttotal: 1m\tremaining: 6.7s\n",
      "36:\tlearn: 0.1325556\ttotal: 1m 1s\tremaining: 4.99s\n",
      "37:\tlearn: 0.1318660\ttotal: 1m 2s\tremaining: 3.3s\n",
      "38:\tlearn: 0.1304599\ttotal: 1m 4s\tremaining: 1.64s\n",
      "39:\tlearn: 0.1298924\ttotal: 1m 5s\tremaining: 0us\n",
      "0:\tlearn: 0.2656487\ttotal: 5.92s\tremaining: 3m 50s\n",
      "1:\tlearn: 0.2342907\ttotal: 11.6s\tremaining: 3m 40s\n",
      "2:\tlearn: 0.2177438\ttotal: 17s\tremaining: 3m 30s\n",
      "3:\tlearn: 0.2034161\ttotal: 21.2s\tremaining: 3m 11s\n",
      "4:\tlearn: 0.1957610\ttotal: 24.1s\tremaining: 2m 48s\n",
      "5:\tlearn: 0.1901517\ttotal: 26.2s\tremaining: 2m 28s\n",
      "6:\tlearn: 0.1850134\ttotal: 28.4s\tremaining: 2m 13s\n",
      "7:\tlearn: 0.1802443\ttotal: 30s\tremaining: 1m 59s\n",
      "8:\tlearn: 0.1765269\ttotal: 32.5s\tremaining: 1m 51s\n",
      "9:\tlearn: 0.1730274\ttotal: 34.3s\tremaining: 1m 43s\n",
      "10:\tlearn: 0.1703404\ttotal: 35.8s\tremaining: 1m 34s\n",
      "11:\tlearn: 0.1672348\ttotal: 37.2s\tremaining: 1m 26s\n",
      "12:\tlearn: 0.1648243\ttotal: 38.5s\tremaining: 1m 19s\n",
      "13:\tlearn: 0.1626471\ttotal: 39.7s\tremaining: 1m 13s\n",
      "14:\tlearn: 0.1596128\ttotal: 41.4s\tremaining: 1m 8s\n",
      "15:\tlearn: 0.1564484\ttotal: 43s\tremaining: 1m 4s\n",
      "16:\tlearn: 0.1547080\ttotal: 44.9s\tremaining: 1m\n",
      "17:\tlearn: 0.1530161\ttotal: 46.2s\tremaining: 56.5s\n",
      "18:\tlearn: 0.1505794\ttotal: 47.5s\tremaining: 52.6s\n",
      "19:\tlearn: 0.1493945\ttotal: 49.1s\tremaining: 49.1s\n",
      "20:\tlearn: 0.1481542\ttotal: 50.6s\tremaining: 45.7s\n",
      "21:\tlearn: 0.1468717\ttotal: 51.8s\tremaining: 42.4s\n",
      "22:\tlearn: 0.1457518\ttotal: 53.2s\tremaining: 39.3s\n",
      "23:\tlearn: 0.1449194\ttotal: 54.6s\tremaining: 36.4s\n",
      "24:\tlearn: 0.1436212\ttotal: 55.9s\tremaining: 33.6s\n",
      "25:\tlearn: 0.1419941\ttotal: 57.7s\tremaining: 31s\n",
      "26:\tlearn: 0.1405495\ttotal: 58.9s\tremaining: 28.4s\n",
      "27:\tlearn: 0.1394805\ttotal: 1m\tremaining: 25.9s\n",
      "28:\tlearn: 0.1384124\ttotal: 1m 1s\tremaining: 23.4s\n",
      "29:\tlearn: 0.1377531\ttotal: 1m 3s\tremaining: 21s\n",
      "30:\tlearn: 0.1369577\ttotal: 1m 4s\tremaining: 18.7s\n",
      "31:\tlearn: 0.1356998\ttotal: 1m 5s\tremaining: 16.5s\n",
      "32:\tlearn: 0.1350607\ttotal: 1m 7s\tremaining: 14.3s\n",
      "33:\tlearn: 0.1344611\ttotal: 1m 8s\tremaining: 12.1s\n",
      "34:\tlearn: 0.1338826\ttotal: 1m 10s\tremaining: 10s\n",
      "35:\tlearn: 0.1328632\ttotal: 1m 11s\tremaining: 7.99s\n",
      "36:\tlearn: 0.1323369\ttotal: 1m 13s\tremaining: 5.95s\n",
      "37:\tlearn: 0.1318544\ttotal: 1m 15s\tremaining: 3.96s\n",
      "38:\tlearn: 0.1312440\ttotal: 1m 16s\tremaining: 1.97s\n",
      "39:\tlearn: 0.1300361\ttotal: 1m 18s\tremaining: 0us\n",
      "0:\tlearn: 0.2691216\ttotal: 2.18s\tremaining: 1m 24s\n",
      "1:\tlearn: 0.2376509\ttotal: 3.78s\tremaining: 1m 11s\n",
      "2:\tlearn: 0.2217325\ttotal: 5.03s\tremaining: 1m 1s\n",
      "3:\tlearn: 0.2076798\ttotal: 6.23s\tremaining: 56s\n",
      "4:\tlearn: 0.1982212\ttotal: 7.47s\tremaining: 52.3s\n",
      "5:\tlearn: 0.1923061\ttotal: 8.8s\tremaining: 49.9s\n",
      "6:\tlearn: 0.1864236\ttotal: 10.2s\tremaining: 47.9s\n",
      "7:\tlearn: 0.1829932\ttotal: 11.7s\tremaining: 46.8s\n",
      "8:\tlearn: 0.1780850\ttotal: 13.2s\tremaining: 45.3s\n",
      "9:\tlearn: 0.1747496\ttotal: 14.4s\tremaining: 43.3s\n",
      "10:\tlearn: 0.1717837\ttotal: 15.6s\tremaining: 41.1s\n",
      "11:\tlearn: 0.1679647\ttotal: 17.4s\tremaining: 40.7s\n",
      "12:\tlearn: 0.1649383\ttotal: 19s\tremaining: 39.4s\n",
      "13:\tlearn: 0.1618226\ttotal: 20.5s\tremaining: 38.1s\n",
      "14:\tlearn: 0.1590376\ttotal: 21.7s\tremaining: 36.2s\n",
      "15:\tlearn: 0.1572328\ttotal: 23.1s\tremaining: 34.6s\n",
      "16:\tlearn: 0.1556264\ttotal: 24.4s\tremaining: 33s\n",
      "17:\tlearn: 0.1537176\ttotal: 25.8s\tremaining: 31.5s\n",
      "18:\tlearn: 0.1522248\ttotal: 27.2s\tremaining: 30.1s\n",
      "19:\tlearn: 0.1508866\ttotal: 28.6s\tremaining: 28.6s\n",
      "20:\tlearn: 0.1498557\ttotal: 29.9s\tremaining: 27.1s\n",
      "21:\tlearn: 0.1480760\ttotal: 31.2s\tremaining: 25.5s\n",
      "22:\tlearn: 0.1461083\ttotal: 32.9s\tremaining: 24.3s\n",
      "23:\tlearn: 0.1452681\ttotal: 34.9s\tremaining: 23.3s\n",
      "24:\tlearn: 0.1443120\ttotal: 37s\tremaining: 22.2s\n",
      "25:\tlearn: 0.1430515\ttotal: 38.6s\tremaining: 20.8s\n",
      "26:\tlearn: 0.1420717\ttotal: 40.4s\tremaining: 19.4s\n",
      "27:\tlearn: 0.1412024\ttotal: 41.8s\tremaining: 17.9s\n",
      "28:\tlearn: 0.1402471\ttotal: 43.2s\tremaining: 16.4s\n",
      "29:\tlearn: 0.1389178\ttotal: 44.4s\tremaining: 14.8s\n",
      "30:\tlearn: 0.1377806\ttotal: 45.7s\tremaining: 13.3s\n",
      "31:\tlearn: 0.1371044\ttotal: 46.9s\tremaining: 11.7s\n",
      "32:\tlearn: 0.1361025\ttotal: 48.3s\tremaining: 10.2s\n",
      "33:\tlearn: 0.1354907\ttotal: 49.5s\tremaining: 8.74s\n",
      "34:\tlearn: 0.1349088\ttotal: 50.9s\tremaining: 7.27s\n",
      "35:\tlearn: 0.1342430\ttotal: 52.2s\tremaining: 5.8s\n",
      "36:\tlearn: 0.1337071\ttotal: 53.7s\tremaining: 4.35s\n",
      "37:\tlearn: 0.1330974\ttotal: 55s\tremaining: 2.89s\n",
      "38:\tlearn: 0.1325684\ttotal: 56.3s\tremaining: 1.44s\n",
      "39:\tlearn: 0.1320093\ttotal: 57.9s\tremaining: 0us\n",
      "0:\tlearn: 0.2625338\ttotal: 5.48s\tremaining: 3m 33s\n",
      "1:\tlearn: 0.2311615\ttotal: 7.69s\tremaining: 2m 26s\n",
      "2:\tlearn: 0.2163376\ttotal: 10.1s\tremaining: 2m 3s\n",
      "3:\tlearn: 0.2023834\ttotal: 11.8s\tremaining: 1m 46s\n",
      "4:\tlearn: 0.1953354\ttotal: 13.4s\tremaining: 1m 33s\n",
      "5:\tlearn: 0.1899241\ttotal: 15s\tremaining: 1m 25s\n",
      "6:\tlearn: 0.1849066\ttotal: 16.6s\tremaining: 1m 18s\n",
      "7:\tlearn: 0.1794891\ttotal: 18.3s\tremaining: 1m 13s\n",
      "8:\tlearn: 0.1758081\ttotal: 19.9s\tremaining: 1m 8s\n",
      "9:\tlearn: 0.1722775\ttotal: 22.3s\tremaining: 1m 6s\n",
      "10:\tlearn: 0.1695839\ttotal: 24.4s\tremaining: 1m 4s\n",
      "11:\tlearn: 0.1668666\ttotal: 26.5s\tremaining: 1m 1s\n",
      "12:\tlearn: 0.1634920\ttotal: 28.4s\tremaining: 59.1s\n",
      "13:\tlearn: 0.1617352\ttotal: 32.4s\tremaining: 1m\n",
      "14:\tlearn: 0.1589272\ttotal: 38.7s\tremaining: 1m 4s\n",
      "15:\tlearn: 0.1572132\ttotal: 43.7s\tremaining: 1m 5s\n",
      "16:\tlearn: 0.1557657\ttotal: 52.2s\tremaining: 1m 10s\n",
      "17:\tlearn: 0.1542326\ttotal: 1m 1s\tremaining: 1m 14s\n",
      "18:\tlearn: 0.1525601\ttotal: 1m 3s\tremaining: 1m 10s\n",
      "19:\tlearn: 0.1506632\ttotal: 1m 6s\tremaining: 1m 6s\n",
      "20:\tlearn: 0.1495598\ttotal: 1m 8s\tremaining: 1m 2s\n",
      "21:\tlearn: 0.1486678\ttotal: 1m 10s\tremaining: 57.9s\n",
      "22:\tlearn: 0.1475194\ttotal: 1m 12s\tremaining: 53.8s\n",
      "23:\tlearn: 0.1459026\ttotal: 1m 14s\tremaining: 49.8s\n",
      "24:\tlearn: 0.1446910\ttotal: 1m 16s\tremaining: 46.2s\n",
      "25:\tlearn: 0.1438059\ttotal: 1m 19s\tremaining: 42.6s\n",
      "26:\tlearn: 0.1425349\ttotal: 1m 21s\tremaining: 39.2s\n",
      "27:\tlearn: 0.1418151\ttotal: 1m 24s\tremaining: 36s\n",
      "28:\tlearn: 0.1409687\ttotal: 1m 25s\tremaining: 32.6s\n",
      "29:\tlearn: 0.1397887\ttotal: 1m 27s\tremaining: 29.3s\n",
      "30:\tlearn: 0.1392246\ttotal: 1m 29s\tremaining: 26.1s\n",
      "31:\tlearn: 0.1380292\ttotal: 1m 31s\tremaining: 22.9s\n",
      "32:\tlearn: 0.1372622\ttotal: 1m 33s\tremaining: 19.9s\n",
      "33:\tlearn: 0.1367564\ttotal: 1m 36s\tremaining: 16.9s\n",
      "34:\tlearn: 0.1358182\ttotal: 1m 37s\tremaining: 14s\n",
      "35:\tlearn: 0.1352925\ttotal: 1m 39s\tremaining: 11.1s\n",
      "36:\tlearn: 0.1342703\ttotal: 1m 41s\tremaining: 8.21s\n",
      "37:\tlearn: 0.1338259\ttotal: 1m 43s\tremaining: 5.44s\n",
      "38:\tlearn: 0.1333250\ttotal: 1m 45s\tremaining: 2.7s\n",
      "39:\tlearn: 0.1324778\ttotal: 1m 47s\tremaining: 0us\n"
     ]
    },
    {
     "data": {
      "text/html": [
       "<style>#sk-container-id-1 {color: black;background-color: white;}#sk-container-id-1 pre{padding: 0;}#sk-container-id-1 div.sk-toggleable {background-color: white;}#sk-container-id-1 label.sk-toggleable__label {cursor: pointer;display: block;width: 100%;margin-bottom: 0;padding: 0.3em;box-sizing: border-box;text-align: center;}#sk-container-id-1 label.sk-toggleable__label-arrow:before {content: \"▸\";float: left;margin-right: 0.25em;color: #696969;}#sk-container-id-1 label.sk-toggleable__label-arrow:hover:before {color: black;}#sk-container-id-1 div.sk-estimator:hover label.sk-toggleable__label-arrow:before {color: black;}#sk-container-id-1 div.sk-toggleable__content {max-height: 0;max-width: 0;overflow: hidden;text-align: left;background-color: #f0f8ff;}#sk-container-id-1 div.sk-toggleable__content pre {margin: 0.2em;color: black;border-radius: 0.25em;background-color: #f0f8ff;}#sk-container-id-1 input.sk-toggleable__control:checked~div.sk-toggleable__content {max-height: 200px;max-width: 100%;overflow: auto;}#sk-container-id-1 input.sk-toggleable__control:checked~label.sk-toggleable__label-arrow:before {content: \"▾\";}#sk-container-id-1 div.sk-estimator input.sk-toggleable__control:checked~label.sk-toggleable__label {background-color: #d4ebff;}#sk-container-id-1 div.sk-label input.sk-toggleable__control:checked~label.sk-toggleable__label {background-color: #d4ebff;}#sk-container-id-1 input.sk-hidden--visually {border: 0;clip: rect(1px 1px 1px 1px);clip: rect(1px, 1px, 1px, 1px);height: 1px;margin: -1px;overflow: hidden;padding: 0;position: absolute;width: 1px;}#sk-container-id-1 div.sk-estimator {font-family: monospace;background-color: #f0f8ff;border: 1px dotted black;border-radius: 0.25em;box-sizing: border-box;margin-bottom: 0.5em;}#sk-container-id-1 div.sk-estimator:hover {background-color: #d4ebff;}#sk-container-id-1 div.sk-parallel-item::after {content: \"\";width: 100%;border-bottom: 1px solid gray;flex-grow: 1;}#sk-container-id-1 div.sk-label:hover label.sk-toggleable__label {background-color: #d4ebff;}#sk-container-id-1 div.sk-serial::before {content: \"\";position: absolute;border-left: 1px solid gray;box-sizing: border-box;top: 0;bottom: 0;left: 50%;z-index: 0;}#sk-container-id-1 div.sk-serial {display: flex;flex-direction: column;align-items: center;background-color: white;padding-right: 0.2em;padding-left: 0.2em;position: relative;}#sk-container-id-1 div.sk-item {position: relative;z-index: 1;}#sk-container-id-1 div.sk-parallel {display: flex;align-items: stretch;justify-content: center;background-color: white;position: relative;}#sk-container-id-1 div.sk-item::before, #sk-container-id-1 div.sk-parallel-item::before {content: \"\";position: absolute;border-left: 1px solid gray;box-sizing: border-box;top: 0;bottom: 0;left: 50%;z-index: -1;}#sk-container-id-1 div.sk-parallel-item {display: flex;flex-direction: column;z-index: 1;position: relative;background-color: white;}#sk-container-id-1 div.sk-parallel-item:first-child::after {align-self: flex-end;width: 50%;}#sk-container-id-1 div.sk-parallel-item:last-child::after {align-self: flex-start;width: 50%;}#sk-container-id-1 div.sk-parallel-item:only-child::after {width: 0;}#sk-container-id-1 div.sk-dashed-wrapped {border: 1px dashed gray;margin: 0 0.4em 0.5em 0.4em;box-sizing: border-box;padding-bottom: 0.4em;background-color: white;}#sk-container-id-1 div.sk-label label {font-family: monospace;font-weight: bold;display: inline-block;line-height: 1.2em;}#sk-container-id-1 div.sk-label-container {text-align: center;}#sk-container-id-1 div.sk-container {/* jupyter's `normalize.less` sets `[hidden] { display: none; }` but bootstrap.min.css set `[hidden] { display: none !important; }` so we also need the `!important` here to be able to override the default hidden behavior on the sphinx rendered scikit-learn.org. See: https://github.com/scikit-learn/scikit-learn/issues/21755 */display: inline-block !important;position: relative;}#sk-container-id-1 div.sk-text-repr-fallback {display: none;}</style><div id=\"sk-container-id-1\" class=\"sk-top-container\"><div class=\"sk-text-repr-fallback\"><pre>GridSearchCV(cv=3,\n",
       "             estimator=&lt;catboost.core.CatBoostClassifier object at 0x13cde7340&gt;,\n",
       "             param_grid={&#x27;iterations&#x27;: [40],\n",
       "                         &#x27;learning_rate&#x27;: array([0.1, 0.3, 0.5, 0.7, 0.9])},\n",
       "             scoring=&#x27;f1&#x27;, verbose=False)</pre><b>In a Jupyter environment, please rerun this cell to show the HTML representation or trust the notebook. <br />On GitHub, the HTML representation is unable to render, please try loading this page with nbviewer.org.</b></div><div class=\"sk-container\" hidden><div class=\"sk-item sk-dashed-wrapped\"><div class=\"sk-label-container\"><div class=\"sk-label sk-toggleable\"><input class=\"sk-toggleable__control sk-hidden--visually\" id=\"sk-estimator-id-1\" type=\"checkbox\" ><label for=\"sk-estimator-id-1\" class=\"sk-toggleable__label sk-toggleable__label-arrow\">GridSearchCV</label><div class=\"sk-toggleable__content\"><pre>GridSearchCV(cv=3,\n",
       "             estimator=&lt;catboost.core.CatBoostClassifier object at 0x13cde7340&gt;,\n",
       "             param_grid={&#x27;iterations&#x27;: [40],\n",
       "                         &#x27;learning_rate&#x27;: array([0.1, 0.3, 0.5, 0.7, 0.9])},\n",
       "             scoring=&#x27;f1&#x27;, verbose=False)</pre></div></div></div><div class=\"sk-parallel\"><div class=\"sk-parallel-item\"><div class=\"sk-item\"><div class=\"sk-label-container\"><div class=\"sk-label sk-toggleable\"><input class=\"sk-toggleable__control sk-hidden--visually\" id=\"sk-estimator-id-2\" type=\"checkbox\" ><label for=\"sk-estimator-id-2\" class=\"sk-toggleable__label sk-toggleable__label-arrow\">estimator: CatBoostClassifier</label><div class=\"sk-toggleable__content\"><pre>&lt;catboost.core.CatBoostClassifier object at 0x13cde7340&gt;</pre></div></div></div><div class=\"sk-serial\"><div class=\"sk-item\"><div class=\"sk-estimator sk-toggleable\"><input class=\"sk-toggleable__control sk-hidden--visually\" id=\"sk-estimator-id-3\" type=\"checkbox\" ><label for=\"sk-estimator-id-3\" class=\"sk-toggleable__label sk-toggleable__label-arrow\">CatBoostClassifier</label><div class=\"sk-toggleable__content\"><pre>&lt;catboost.core.CatBoostClassifier object at 0x13cde7340&gt;</pre></div></div></div></div></div></div></div></div></div></div>"
      ],
      "text/plain": [
       "GridSearchCV(cv=3,\n",
       "             estimator=<catboost.core.CatBoostClassifier object at 0x13cde7340>,\n",
       "             param_grid={'iterations': [40],\n",
       "                         'learning_rate': array([0.1, 0.3, 0.5, 0.7, 0.9])},\n",
       "             scoring='f1', verbose=False)"
      ]
     },
     "execution_count": 38,
     "metadata": {},
     "output_type": "execute_result"
    }
   ],
   "source": [
    "# initiatint the model\n",
    "catboost = CatBoostClassifier(random_seed=5,\n",
    "                              loss_function='Logloss')\n",
    "\n",
    "# preparing parameters to ask GridSearch, which contains cross validation\n",
    "parameters_cat = {'iterations':[40], \n",
    "                  'learning_rate': np.arange(0.1,1,0.2)}\n",
    "\n",
    "gsearch_catboost = GridSearchCV(catboost, \n",
    "                                param_grid=parameters_cat,\n",
    "                                cv=3,\n",
    "                                verbose=False,\n",
    "                               scoring='f1')\n",
    "\n",
    "gsearch_catboost.fit(tf_idf_X_train, y_train)"
   ]
  },
  {
   "cell_type": "code",
   "execution_count": 67,
   "id": "8db23492",
   "metadata": {},
   "outputs": [
    {
     "data": {
      "text/plain": [
       "array([[113497,   4254],\n",
       "       [  1042,   8640]])"
      ]
     },
     "execution_count": 67,
     "metadata": {},
     "output_type": "execute_result"
    }
   ],
   "source": [
    "y_pred_catboost = gsearch_catboost.predict(tf_idf_X_train)\n",
    "confusion_matrix(y_pred_catboost, y_train)"
   ]
  },
  {
   "cell_type": "markdown",
   "id": "7ea91aaf",
   "metadata": {},
   "source": [
    "### ***Вывод:*** Видим, что мажоритарный класс предсказывается хорошо, а миноритарный дает больше половины ложноположительной ответов FP=1155."
   ]
  },
  {
   "cell_type": "markdown",
   "id": "6fdd1e06",
   "metadata": {},
   "source": [
    "### Gradient Boosting в модели \"мешка слова\" в классе TfidfVectorizer()"
   ]
  },
  {
   "cell_type": "code",
   "execution_count": 39,
   "id": "be494f5c",
   "metadata": {},
   "outputs": [],
   "source": [
    "from lightgbm import LGBMClassifier\n",
    "import lightgbm as lgb"
   ]
  },
  {
   "cell_type": "code",
   "execution_count": 40,
   "id": "37b4df5c",
   "metadata": {
    "scrolled": true
   },
   "outputs": [],
   "source": [
    "model = lgb.LGBMClassifier(class_weight = 'balanced',\n",
    "                           random_state=5)"
   ]
  },
  {
   "cell_type": "code",
   "execution_count": 41,
   "id": "2f9f1482",
   "metadata": {
    "scrolled": true
   },
   "outputs": [
    {
     "data": {
      "text/html": [
       "<style>#sk-container-id-2 {color: black;background-color: white;}#sk-container-id-2 pre{padding: 0;}#sk-container-id-2 div.sk-toggleable {background-color: white;}#sk-container-id-2 label.sk-toggleable__label {cursor: pointer;display: block;width: 100%;margin-bottom: 0;padding: 0.3em;box-sizing: border-box;text-align: center;}#sk-container-id-2 label.sk-toggleable__label-arrow:before {content: \"▸\";float: left;margin-right: 0.25em;color: #696969;}#sk-container-id-2 label.sk-toggleable__label-arrow:hover:before {color: black;}#sk-container-id-2 div.sk-estimator:hover label.sk-toggleable__label-arrow:before {color: black;}#sk-container-id-2 div.sk-toggleable__content {max-height: 0;max-width: 0;overflow: hidden;text-align: left;background-color: #f0f8ff;}#sk-container-id-2 div.sk-toggleable__content pre {margin: 0.2em;color: black;border-radius: 0.25em;background-color: #f0f8ff;}#sk-container-id-2 input.sk-toggleable__control:checked~div.sk-toggleable__content {max-height: 200px;max-width: 100%;overflow: auto;}#sk-container-id-2 input.sk-toggleable__control:checked~label.sk-toggleable__label-arrow:before {content: \"▾\";}#sk-container-id-2 div.sk-estimator input.sk-toggleable__control:checked~label.sk-toggleable__label {background-color: #d4ebff;}#sk-container-id-2 div.sk-label input.sk-toggleable__control:checked~label.sk-toggleable__label {background-color: #d4ebff;}#sk-container-id-2 input.sk-hidden--visually {border: 0;clip: rect(1px 1px 1px 1px);clip: rect(1px, 1px, 1px, 1px);height: 1px;margin: -1px;overflow: hidden;padding: 0;position: absolute;width: 1px;}#sk-container-id-2 div.sk-estimator {font-family: monospace;background-color: #f0f8ff;border: 1px dotted black;border-radius: 0.25em;box-sizing: border-box;margin-bottom: 0.5em;}#sk-container-id-2 div.sk-estimator:hover {background-color: #d4ebff;}#sk-container-id-2 div.sk-parallel-item::after {content: \"\";width: 100%;border-bottom: 1px solid gray;flex-grow: 1;}#sk-container-id-2 div.sk-label:hover label.sk-toggleable__label {background-color: #d4ebff;}#sk-container-id-2 div.sk-serial::before {content: \"\";position: absolute;border-left: 1px solid gray;box-sizing: border-box;top: 0;bottom: 0;left: 50%;z-index: 0;}#sk-container-id-2 div.sk-serial {display: flex;flex-direction: column;align-items: center;background-color: white;padding-right: 0.2em;padding-left: 0.2em;position: relative;}#sk-container-id-2 div.sk-item {position: relative;z-index: 1;}#sk-container-id-2 div.sk-parallel {display: flex;align-items: stretch;justify-content: center;background-color: white;position: relative;}#sk-container-id-2 div.sk-item::before, #sk-container-id-2 div.sk-parallel-item::before {content: \"\";position: absolute;border-left: 1px solid gray;box-sizing: border-box;top: 0;bottom: 0;left: 50%;z-index: -1;}#sk-container-id-2 div.sk-parallel-item {display: flex;flex-direction: column;z-index: 1;position: relative;background-color: white;}#sk-container-id-2 div.sk-parallel-item:first-child::after {align-self: flex-end;width: 50%;}#sk-container-id-2 div.sk-parallel-item:last-child::after {align-self: flex-start;width: 50%;}#sk-container-id-2 div.sk-parallel-item:only-child::after {width: 0;}#sk-container-id-2 div.sk-dashed-wrapped {border: 1px dashed gray;margin: 0 0.4em 0.5em 0.4em;box-sizing: border-box;padding-bottom: 0.4em;background-color: white;}#sk-container-id-2 div.sk-label label {font-family: monospace;font-weight: bold;display: inline-block;line-height: 1.2em;}#sk-container-id-2 div.sk-label-container {text-align: center;}#sk-container-id-2 div.sk-container {/* jupyter's `normalize.less` sets `[hidden] { display: none; }` but bootstrap.min.css set `[hidden] { display: none !important; }` so we also need the `!important` here to be able to override the default hidden behavior on the sphinx rendered scikit-learn.org. See: https://github.com/scikit-learn/scikit-learn/issues/21755 */display: inline-block !important;position: relative;}#sk-container-id-2 div.sk-text-repr-fallback {display: none;}</style><div id=\"sk-container-id-2\" class=\"sk-top-container\"><div class=\"sk-text-repr-fallback\"><pre>GridSearchCV(cv=3,\n",
       "             estimator=LGBMClassifier(class_weight=&#x27;balanced&#x27;, random_state=5),\n",
       "             param_grid={&#x27;learning_rate&#x27;: [0.05, 0.1], &#x27;max_depth&#x27;: [-1],\n",
       "                         &#x27;n_estimators&#x27;: [50, 100], &#x27;verbose&#x27;: [-1]},\n",
       "             scoring=&#x27;f1&#x27;)</pre><b>In a Jupyter environment, please rerun this cell to show the HTML representation or trust the notebook. <br />On GitHub, the HTML representation is unable to render, please try loading this page with nbviewer.org.</b></div><div class=\"sk-container\" hidden><div class=\"sk-item sk-dashed-wrapped\"><div class=\"sk-label-container\"><div class=\"sk-label sk-toggleable\"><input class=\"sk-toggleable__control sk-hidden--visually\" id=\"sk-estimator-id-4\" type=\"checkbox\" ><label for=\"sk-estimator-id-4\" class=\"sk-toggleable__label sk-toggleable__label-arrow\">GridSearchCV</label><div class=\"sk-toggleable__content\"><pre>GridSearchCV(cv=3,\n",
       "             estimator=LGBMClassifier(class_weight=&#x27;balanced&#x27;, random_state=5),\n",
       "             param_grid={&#x27;learning_rate&#x27;: [0.05, 0.1], &#x27;max_depth&#x27;: [-1],\n",
       "                         &#x27;n_estimators&#x27;: [50, 100], &#x27;verbose&#x27;: [-1]},\n",
       "             scoring=&#x27;f1&#x27;)</pre></div></div></div><div class=\"sk-parallel\"><div class=\"sk-parallel-item\"><div class=\"sk-item\"><div class=\"sk-label-container\"><div class=\"sk-label sk-toggleable\"><input class=\"sk-toggleable__control sk-hidden--visually\" id=\"sk-estimator-id-5\" type=\"checkbox\" ><label for=\"sk-estimator-id-5\" class=\"sk-toggleable__label sk-toggleable__label-arrow\">estimator: LGBMClassifier</label><div class=\"sk-toggleable__content\"><pre>LGBMClassifier(class_weight=&#x27;balanced&#x27;, random_state=5)</pre></div></div></div><div class=\"sk-serial\"><div class=\"sk-item\"><div class=\"sk-estimator sk-toggleable\"><input class=\"sk-toggleable__control sk-hidden--visually\" id=\"sk-estimator-id-6\" type=\"checkbox\" ><label for=\"sk-estimator-id-6\" class=\"sk-toggleable__label sk-toggleable__label-arrow\">LGBMClassifier</label><div class=\"sk-toggleable__content\"><pre>LGBMClassifier(class_weight=&#x27;balanced&#x27;, random_state=5)</pre></div></div></div></div></div></div></div></div></div></div>"
      ],
      "text/plain": [
       "GridSearchCV(cv=3,\n",
       "             estimator=LGBMClassifier(class_weight='balanced', random_state=5),\n",
       "             param_grid={'learning_rate': [0.05, 0.1], 'max_depth': [-1],\n",
       "                         'n_estimators': [50, 100], 'verbose': [-1]},\n",
       "             scoring='f1')"
      ]
     },
     "execution_count": 41,
     "metadata": {},
     "output_type": "execute_result"
    }
   ],
   "source": [
    "params_LGBMClassifier = {    \n",
    "    \n",
    "    'n_estimators': [50, 100], \n",
    "    'learning_rate': [0.05, 0.1], \n",
    "    'verbose' : [-1],\n",
    "#     'boosting_type' : ['gbdt'],\n",
    "#     'num_leaves': [100],\n",
    "    'max_depth' : [-1],\n",
    "#     'min_split_gain' : [0.0],\n",
    "#     'min_child_samples' : [20],\n",
    "#     'subsample' : [1.0],\n",
    "#     'subsample_freq' : [0],\n",
    "#     'colsample_bytree': [1.0],\n",
    "#     'reg_alpha' : [0.0],\n",
    "#     'reg_lambda' : [0.0],\n",
    "#     'random_state' : [5],\n",
    "#     'silent' : [True]\n",
    "}\n",
    "\n",
    "LGBMClassifier_gsearch = GridSearchCV(estimator=model, \n",
    "                                     cv=3, \n",
    "                                     param_grid=params_LGBMClassifier,\n",
    "                                     scoring='f1')\n",
    "\n",
    "LGBMClassifier_gsearch.fit(tf_idf_X_train, y_train)"
   ]
  },
  {
   "cell_type": "code",
   "execution_count": 65,
   "id": "414cc0e7",
   "metadata": {},
   "outputs": [
    {
     "data": {
      "text/plain": [
       "array([[109401,   1991],\n",
       "       [  5138,  10903]])"
      ]
     },
     "execution_count": 65,
     "metadata": {},
     "output_type": "execute_result"
    }
   ],
   "source": [
    "y_pred_lightgbm = LGBMClassifier_gsearch.predict(tf_idf_X_train)\n",
    "confusion_matrix(y_pred_lightgbm, y_train)"
   ]
  },
  {
   "cell_type": "markdown",
   "id": "50517b77",
   "metadata": {},
   "source": [
    "### ***Вывод:*** Видим, что мажоритарный класс предсказывается хорошо, а вот миноритарный снова дает больше половины ложноположительной ответов FP=1230."
   ]
  },
  {
   "cell_type": "markdown",
   "id": "982c915b",
   "metadata": {},
   "source": [
    "### Сравним модели"
   ]
  },
  {
   "cell_type": "code",
   "execution_count": 54,
   "id": "60bf0306",
   "metadata": {},
   "outputs": [
    {
     "name": "stdout",
     "output_type": "stream",
     "text": [
      "Best score Logistic Regression CountVectorizer: 0.75\n"
     ]
    }
   ],
   "source": [
    "# Logistic Regression CountVectorizer\n",
    "best_score_vect = round(logreg_grid.best_score_, 2)\n",
    "print(\"Best score Logistic Regression CountVectorizer: {:.2f}\".format(best_score_vect))\n",
    "\n",
    "# f1_logreg_vect = round(f1_score(logreg_grid.predict(tf_idf_X_train), y_train), 2)\n",
    "# print(\"F1-score Logistic Regression CountVectorizer: {:.2f}\".format(f1_logreg_vect))"
   ]
  },
  {
   "cell_type": "code",
   "execution_count": 55,
   "id": "ef87e95b",
   "metadata": {
    "scrolled": true
   },
   "outputs": [
    {
     "name": "stdout",
     "output_type": "stream",
     "text": [
      "Best score Logistic Regression (TF-IDF): 0.76\n"
     ]
    }
   ],
   "source": [
    "# Logistic Regression TF-IDF\n",
    "best_score_tfidf = round(grid.best_score_, 2)\n",
    "print('Best score Logistic Regression (TF-IDF): {:.2f}'.format(best_score_tfidf))\n",
    "\n",
    "# f1_logreg_tfidf = round(f1_score(grid.predict(tf_idf_X_train), y_train), 2)\n",
    "# print(\"F1-score Logistic Regression CountVectorizer: {:.2f}\".format(f1_logreg_tfidf))"
   ]
  },
  {
   "cell_type": "code",
   "execution_count": 56,
   "id": "b2032056",
   "metadata": {},
   "outputs": [
    {
     "name": "stdout",
     "output_type": "stream",
     "text": [
      "Best score Logistic Regression (TF-IDF): 0.96\n"
     ]
    }
   ],
   "source": [
    "# Logistic Regression TF-IDF (upsampled)\n",
    "best_score_tfidf_up = round(grid_up.best_score_, 2)\n",
    "print('Best score Logistic Regression (TF-IDF): {:.2f}'.format(best_score_tfidf_up))"
   ]
  },
  {
   "cell_type": "code",
   "execution_count": 57,
   "id": "9a4ca4fa",
   "metadata": {
    "scrolled": true
   },
   "outputs": [
    {
     "name": "stdout",
     "output_type": "stream",
     "text": [
      "Best score CatBoostClassifier (TF-IDF): 0.73\n"
     ]
    }
   ],
   "source": [
    "# CatBoost\n",
    "best_score_catboost = round(gsearch_catboost.best_score_, 2)\n",
    "print('Best score CatBoostClassifier (TF-IDF): {}'.format(best_score_catboost))\n",
    "\n",
    "# f1_catboost = round(f1_score(gsearch_catboost.predict(tf_idf_X_train), y_train), 2)\n",
    "# print(\"F1-score Logistic Regression CountVectorizer: {:.2f}\".format(f1_catboost))"
   ]
  },
  {
   "cell_type": "code",
   "execution_count": 58,
   "id": "c414752e",
   "metadata": {},
   "outputs": [
    {
     "name": "stdout",
     "output_type": "stream",
     "text": [
      "Best score LGBMClassifier (TF-IDF): 0.72\n"
     ]
    }
   ],
   "source": [
    "# LGBMClassifier\n",
    "best_score_LGBM = round(LGBMClassifier_gsearch.best_score_, 2)\n",
    "print('Best score LGBMClassifier (TF-IDF): {}'.format(best_score_LGBM))\n",
    "\n",
    "# f1_lgbm = round(f1_score(LGBMClassifier_gsearch.predict(tf_idf_X_train), y_train), 2)\n",
    "# print(\"F1-score Logistic Regression CountVectorizer: {:.2f}\".format(f1_lgbm))"
   ]
  },
  {
   "cell_type": "markdown",
   "id": "e6399298",
   "metadata": {},
   "source": [
    "<div class=\"alert alert-warning\">\n",
    "<b>⚠️ Комментарий ревьювера:</b> Пересчитай пожалуйста F-меру для логистической регрессии с TF-IDF, у меня получилось другое значение.\n",
    "    \n",
    "</div>"
   ]
  },
  {
   "cell_type": "code",
   "execution_count": 68,
   "id": "40ee49ee",
   "metadata": {},
   "outputs": [
    {
     "data": {
      "image/png": "[encoded data removed]",
      "text/plain": [
       "<Figure size 1900x600 with 1 Axes>"
      ]
     },
     "metadata": {},
     "output_type": "display_data"
    }
   ],
   "source": [
    "# Generate F1-score plots\n",
    "\n",
    "plt.rcParams.update({'font.size': 17, \n",
    "                     'text.color' : 'black', \n",
    "                     'axes.labelcolor' : \"blue\"})\n",
    "# plt.rcParams.update({'axes.titlesize': 'large'})\n",
    "fig, ax = plt.subplots(figsize=(19, 6))\n",
    "\n",
    "x = ['Log Reg (Count)',\n",
    "     'Log Reg', \n",
    "     'Logistic Reg Upsampled', \n",
    "     'Cat Boost',\n",
    "    'LightGBM']\n",
    "\n",
    "y = [best_score_vect, \n",
    "     best_score_tfidf, \n",
    "     best_score_tfidf_up,\n",
    "     best_score_catboost,\n",
    "     best_score_LGBM]\n",
    "\n",
    "ax.bar(x, y, width=0.4, color='#008B8B')\n",
    "ax.set_title('F1-score for each ML algorithm (train data)', fontsize=18)\n",
    "ax.set_xlabel('Classification Models', fontsize=18)\n",
    "ax.set_ylabel('F1-score', fontsize=18)\n",
    "ax.set_ylim(0, 1.1)\n",
    "\n",
    "for index, value in enumerate(y):\n",
    "    plt.text(x=index, y=value + 0.05, s=str(value), ha='center')\n",
    "    \n",
    "plt.tight_layout();"
   ]
  },
  {
   "cell_type": "markdown",
   "id": "43a8fe3a",
   "metadata": {},
   "source": [
    "###  Вывод: Максимальное значение F1-меры приходится на модель логистической регрессии (F1-score = 0.76), построенные для модели TD-IDF на выборке с учетом дисбалансов таргетов (upsampled). ***Протестируем оба алгоритма на тестовой выборке.***"
   ]
  },
  {
   "cell_type": "markdown",
   "id": "9fcd9f81",
   "metadata": {},
   "source": [
    "<div class=\"alert alert-success\">\n",
    "<b>✔️ Комментарий ревьювера:</b> Здорово, что рассмотрела разные модели и сделала перебор гиперпараметров! \n",
    "    \n",
    "Видно, что проделана большая работа 👍 \n",
    "    \n",
    "Сейчас нужно внести некоторые исправления, нро в целом работа практически готова.\n",
    "    \n",
    "</div>"
   ]
  },
  {
   "cell_type": "markdown",
   "id": "674c548a",
   "metadata": {},
   "source": [
    "## Выводы"
   ]
  },
  {
   "cell_type": "code",
   "execution_count": 61,
   "id": "47650026",
   "metadata": {
    "scrolled": true
   },
   "outputs": [
    {
     "name": "stdout",
     "output_type": "stream",
     "text": [
      "F1-score Logistic Regression TF-IDF (test data): 0.78\n"
     ]
    }
   ],
   "source": [
    "# Logistic Regression TF-IDF (upsampled)\n",
    "f1_logreg_tfidf_test_up = round(f1_score(grid_up.predict(tf_idf_X_test), y_test), 2)\n",
    "print(\"F1-score Logistic Regression TF-IDF (test data): {:.2f}\".format(f1_logreg_tfidf_test_up))"
   ]
  },
  {
   "cell_type": "markdown",
   "id": "8a9b7079",
   "metadata": {},
   "source": [
    "<div class=\"alert alert-success\">\n",
    "<b>✔️ Комментарий ревьювера v3:</b> \n",
    "    \n",
    "Необходимый порог по метрике F1 > 0.75 преодолен, поздравляю!\n",
    "    \n",
    "</div>"
   ]
  },
  {
   "cell_type": "code",
   "execution_count": 62,
   "id": "ae3e2834",
   "metadata": {
    "scrolled": true
   },
   "outputs": [
    {
     "data": {
      "text/plain": [
       "array([[27685,   647],\n",
       "       [  882,  2645]])"
      ]
     },
     "execution_count": 62,
     "metadata": {},
     "output_type": "execute_result"
    }
   ],
   "source": [
    "y_pred_logreg_up = grid_up.predict(tf_idf_X_test)\n",
    "confusion_matrix(y_pred_logreg_up, y_test)"
   ]
  },
  {
   "cell_type": "code",
   "execution_count": 73,
   "id": "3381f5fd",
   "metadata": {
    "scrolled": false
   },
   "outputs": [
    {
     "name": "stdout",
     "output_type": "stream",
     "text": [
      "\n",
      "               precision    recall  f1-score   support\n",
      "\n",
      "           0       0.98      0.97      0.97     28567\n",
      "           1       0.75      0.80      0.78      3292\n",
      "\n",
      "    accuracy                           0.95     31859\n",
      "   macro avg       0.86      0.89      0.87     31859\n",
      "weighted avg       0.95      0.95      0.95     31859\n",
      "\n"
     ]
    }
   ],
   "source": [
    "print('\\n',classification_report(y_test, y_pred_logreg_up))"
   ]
  },
  {
   "cell_type": "markdown",
   "id": "d0283a03",
   "metadata": {},
   "source": [
    "### ***Вывод:*** Наилучшая модель классификации текста комментариев твиттера - это логистическая регрессия с максимальным значением F1-меры 0.78, построенная на модели \"мешка слов\". Модель построена после корректировки дисбалансов таргетов методом upsampling. Главгая диагональ сonfusion matrix демонстрирует, что модель обучается хорошо: количство ложно пложительных и ложно отрицательных предсказаний менее 20%."
   ]
  },
  {
   "cell_type": "markdown",
   "id": "e6aa9825",
   "metadata": {},
   "source": [
    "<div class=\"alert alert-success\">\n",
    "<b>✔️ Комментарий ревьювера v3:</b> Общая рекомендация по улучшению работу: поправить расчет матриц ошибок, поменять местами переменные в функции confusion_matrix()\n",
    "    \n",
    "</div>"
   ]
  },
  {
   "cell_type": "markdown",
   "id": "b676bbf7",
   "metadata": {},
   "source": [
    "<div class=\"alert alert-warning\">\n",
    "<b>⚠️ Комментарий ревьювера v2:</b> Сейчас на тестировании нужно оставить только одну модель: если на кросс-валидации победила модель с upsampling, то ее одну нужно протестировать.\n",
    "    \n",
    "Как ты правильно заметила, модель с upsampling переобучается, а на тесте результат сильно хуже. Поэтому рекомендуется вместо upsampling указать параметр class_weight = 'balanced'\n",
    "    \n",
    "Как рекомендация: текст в выводе можно написать нежирным шрифтом =)\n",
    "    \n",
    "</div>"
   ]
  },
  {
   "cell_type": "markdown",
   "id": "81aeaa72",
   "metadata": {},
   "source": [
    "<font color=blue>\n",
    "<b> ✔️ 👍Заключение ревьювера:</b> Юлия, у тебя хорошая работа, в целом ты получила нужный результат!\n",
    "   \n",
    "Здорово что попробовала разные векторизации, сделала перебор гиперпараметров.\n",
    "    \n",
    "Сейчас по проекту есть небольшие замечания — нужно убрать преобразование в юникод, поправить лемматизацию текста, а также убрать расчет на тестовой выборке для всех моделей. Тестирование нужно сделать только для одной лучшей модели, которую выбрали по кросс-валидации. \n",
    "    \n",
    "В остальном все хорошо, я отметил рекомендации =)\n",
    "    \n",
    "Отправляю работу для ознакомления с ходом проверки, а также если есть вопросы — смело задавай их, я постараюсь тебе помочь 😊\n",
    "\n",
    "Жду твоего ответа!\n",
    " </font>"
   ]
  },
  {
   "cell_type": "markdown",
   "id": "0d9d4889",
   "metadata": {},
   "source": [
    "<div class=\"alert alert-info\"> <b>ℹ️ Yulia:</b> \n",
    "\n",
    "Арсен, большое спасибо за ревью и крутые ссылки, очень интересно!\n",
    "\n",
    "- попробовала сгруппировать по PEP-8, не знаю, насколько удалось\n",
    "- файл с помощью исключения прочитала\n",
    "- кодировку убрала\n",
    "- лемматизацию английского текста другим классом сделала WordNetLemmatizer()\n",
    "- scoring='f1' в решетчатом поиске прописала\n",
    "- pipeline попробовала обернуть - ноут умирает, не вытягивает модели\n",
    "- дисбаланс убрала с помощью upsampling, но на результаты F1-меры он особо не повлиял.\n",
    "    \n",
    "Спасибо за обратную связь :)\n",
    "\n",
    "   \n",
    "</div>"
   ]
  },
  {
   "cell_type": "markdown",
   "id": "fb6d5c14",
   "metadata": {},
   "source": [
    "<div class=\"alert alert-success\">\n",
    "<b>✔️ Комментарий ревьювера v2:</b> Работа стала значительно лучше! \n",
    "    \n",
    "По замечаниям, нужно поправить только момент с тестовой выборкой. Мы не можем ее использовать для всех моделей, а также для расчета матрицы ошибок на каждой модели, когда делаем кросс-валидацию.\n",
    "    \n",
    "Я добавил также некоторые рекомендации.\n",
    "    \n",
    "</div>"
   ]
  },
  {
   "cell_type": "markdown",
   "id": "7e56fbfa",
   "metadata": {},
   "source": [
    "<div class=\"alert alert-info\"> <b>ℹ️ Yulia v2:</b> \n",
    "    \n",
    "- предсказания на тесте убрала из раздела обучения\n",
    "- добавила ignore warnings\n",
    "- добавила в модели class_weight='balanced'\n",
    "- гистограммы переделала в бар-плоты, оси подписала\n",
    "- еще раз посмотрела на pipeline\n",
    "    pipe_lr = Pipeline([('vect', CountVectorizer()),\n",
    "                   ('tfidf', TfidfTransformer()),\n",
    "                ('clf', LogisticRegression(random_state=5,\n",
    "                                          class_weight='balanced'))])\n",
    "    \n",
    "     Получается, что отдельно не надо масштабировать выборки countvetorizer(), tfidfvectorizer()? можно все зашить в конвейер - и сразу в модель? Тогда и обучаться можно на изначально выделенных выборках X_train, y_train?\n",
    "    \n",
    "Спасибо за рекомендации, аугментация - крутая штука. А ты с текстами работаешь? Где тебя можно в соцсетях добавить, чтобы не потерять в будущем? :)\n",
    "</div>"
   ]
  },
  {
   "cell_type": "markdown",
   "id": "833935a3",
   "metadata": {},
   "source": [
    "<div class=\"alert alert-success\">\n",
    "<b>✔️ Комментарий ревьювера v3:</b> Работа принята, поздравляю! \n",
    "    \n",
    "По твоим вопросам:\n",
    "    \n",
    "- в pipeline действительно можно загрузить несколько вариантов векторизатора и выбрать наилучший с помощью GridSearchCV. Я посмотрел, что ты пока не запускала Pipeline в проекте, нам нужно поправить тип кавычек, если чть )) Но думаю ты и так это заметали :)\n",
    "    \n",
    "- я увлекаюсь задачами анализа текстов, но пока больше как хобби. Сейчас работа у меня в области применения ML для нефтегазовой отрасли.\n",
    "    \n",
    "В интернете моих проектов по ML в публичном доступе пока нет, т.к. в прошлом я инженер) В основном можно найти мои старые инженерные статьи и проекты, если ввести имя и фамилию =) Около 3-х лет назад я начал заниматься ML и сменил работу, но в планах дополнить профиль на github хорошими проектами.\n",
    "    \n",
    "Вообще ты можешь в любое время написать мне через куратора, в слаке (скоро перейдем в пачку), до конца обучения \n",
    "    \n",
    "Если тебе интересна тема анализа текстов, советую присоединиться к вебинару буквально сегодня, либо потом посмотреть его в записи:    \n",
    "- First step in NLP Bootcamp набери в гугл эту фразу и пройди по первой ссылке) Завтра стартует соревнование по текстам на Kaggle, советую поучаствовать, тем более если еще не делала проектов в Kaggle. Там будут как новички так и опытные участники.\n",
    "    \n",
    "Могу посоветовать такие группы в телеграмм, где можно узнать новости в области DS о соревнованиях, вакансиях, собеседованиях:\n",
    "    \n",
    "https://t.me/machinelearning_interview\n",
    "    \n",
    "https://t.me/eda_shad\n",
    "    \n",
    "</div>"
   ]
  },
  {
   "cell_type": "markdown",
   "id": "6c2fe3a0",
   "metadata": {},
   "source": [
    "### Вывод: Наилучшая модель классификации текста - это логистическая регрессия с максимальным значением F1-меры."
   ]
  },
  {
   "cell_type": "markdown",
   "id": "4771856b",
   "metadata": {},
   "source": [
    "- [x]  Jupyter Notebook открыт\n",
    "- [ ]  Весь код выполняется без ошибок\n",
    "- [ ]  Ячейки с кодом расположены в порядке исполнения\n",
    "- [ ]  Данные загружены и подготовлены\n",
    "- [ ]  Модели обучены\n",
    "- [ ]  Значение метрики *F1* не меньше 0.75\n",
    "- [ ]  Выводы написаны"
   ]
  },
  {
   "cell_type": "markdown",
   "id": "cf8fde8a",
   "metadata": {},
   "source": [
    "***Thank you for going through this project. Your comments are more then welcome to ybezginova2021@gmail.com***\n",
    "\n",
    "***Best wishes,***\n",
    "\n",
    "***Yulia***"
   ]
  }
 ],
 "metadata": {
  "ExecuteTimeLog": [
   {
    "duration": 77,
    "start_time": "2022-12-01T09:01:20.063Z"
   },
   {
    "duration": 2283,
    "start_time": "2022-12-01T09:01:56.514Z"
   },
   {
    "duration": 11806,
    "start_time": "2022-12-01T09:01:58.898Z"
   },
   {
    "duration": 9257,
    "start_time": "2022-12-01T09:07:15.110Z"
   },
   {
    "duration": 1114,
    "start_time": "2022-12-01T09:10:39.557Z"
   },
   {
    "duration": 11,
    "start_time": "2022-12-01T09:10:40.673Z"
   },
   {
    "duration": 5,
    "start_time": "2022-12-01T09:10:43.894Z"
   },
   {
    "duration": 5,
    "start_time": "2022-12-01T09:10:44.451Z"
   },
   {
    "duration": 133,
    "start_time": "2022-12-01T09:10:46.596Z"
   },
   {
    "duration": 1862,
    "start_time": "2022-12-01T09:22:59.852Z"
   },
   {
    "duration": 3,
    "start_time": "2022-12-01T09:23:04.579Z"
   },
   {
    "duration": 4,
    "start_time": "2022-12-01T09:23:08.667Z"
   },
   {
    "duration": 3519,
    "start_time": "2022-12-01T09:23:21.611Z"
   },
   {
    "duration": 8,
    "start_time": "2022-12-01T09:23:33.353Z"
   },
   {
    "duration": 33,
    "start_time": "2022-12-01T09:23:34.371Z"
   },
   {
    "duration": 4,
    "start_time": "2022-12-01T09:23:34.635Z"
   },
   {
    "duration": 5,
    "start_time": "2022-12-01T09:23:35.026Z"
   },
   {
    "duration": 38,
    "start_time": "2022-12-01T09:23:35.298Z"
   },
   {
    "duration": 5,
    "start_time": "2022-12-01T09:23:35.515Z"
   },
   {
    "duration": 3,
    "start_time": "2022-12-01T09:23:37.090Z"
   },
   {
    "duration": 6787,
    "start_time": "2022-12-01T09:23:37.538Z"
   },
   {
    "duration": 3,
    "start_time": "2022-12-01T09:23:58.266Z"
   },
   {
    "duration": 7046,
    "start_time": "2022-12-01T09:23:58.411Z"
   },
   {
    "duration": 3,
    "start_time": "2022-12-01T09:24:05.459Z"
   },
   {
    "duration": 3,
    "start_time": "2022-12-01T09:24:30.594Z"
   },
   {
    "duration": 3,
    "start_time": "2022-12-01T09:24:31.034Z"
   },
   {
    "duration": 462389,
    "start_time": "2022-12-01T09:24:31.298Z"
   },
   {
    "duration": 3,
    "start_time": "2022-12-01T09:32:24.274Z"
   },
   {
    "duration": 51,
    "start_time": "2022-12-01T09:32:39.773Z"
   },
   {
    "duration": 2066,
    "start_time": "2022-12-01T09:32:51.093Z"
   },
   {
    "duration": 12200,
    "start_time": "2022-12-01T09:32:53.162Z"
   },
   {
    "duration": 8267,
    "start_time": "2022-12-01T09:33:05.364Z"
   },
   {
    "duration": 1139,
    "start_time": "2022-12-01T09:33:40.269Z"
   },
   {
    "duration": 12,
    "start_time": "2022-12-01T09:33:42.917Z"
   },
   {
    "duration": 6,
    "start_time": "2022-12-01T09:33:43.496Z"
   },
   {
    "duration": 5,
    "start_time": "2022-12-01T09:33:43.666Z"
   },
   {
    "duration": 208,
    "start_time": "2022-12-01T09:33:44.212Z"
   },
   {
    "duration": 1953,
    "start_time": "2022-12-01T09:33:44.669Z"
   },
   {
    "duration": 25,
    "start_time": "2022-12-01T09:33:46.624Z"
   },
   {
    "duration": 21,
    "start_time": "2022-12-01T09:33:46.650Z"
   },
   {
    "duration": 3280,
    "start_time": "2022-12-01T09:33:46.673Z"
   },
   {
    "duration": 8,
    "start_time": "2022-12-01T09:33:49.956Z"
   },
   {
    "duration": 48,
    "start_time": "2022-12-01T09:33:49.966Z"
   },
   {
    "duration": 5,
    "start_time": "2022-12-01T09:33:50.015Z"
   },
   {
    "duration": 8,
    "start_time": "2022-12-01T09:33:50.021Z"
   },
   {
    "duration": 39,
    "start_time": "2022-12-01T09:33:50.030Z"
   },
   {
    "duration": 25,
    "start_time": "2022-12-01T09:33:50.071Z"
   },
   {
    "duration": 3,
    "start_time": "2022-12-01T09:33:50.099Z"
   },
   {
    "duration": 6832,
    "start_time": "2022-12-01T09:33:50.103Z"
   },
   {
    "duration": 3,
    "start_time": "2022-12-01T09:33:56.937Z"
   },
   {
    "duration": 7286,
    "start_time": "2022-12-01T09:33:56.942Z"
   },
   {
    "duration": 4,
    "start_time": "2022-12-01T09:34:04.230Z"
   },
   {
    "duration": 8,
    "start_time": "2022-12-01T09:34:04.237Z"
   },
   {
    "duration": 5,
    "start_time": "2022-12-01T09:34:04.247Z"
   },
   {
    "duration": 45890,
    "start_time": "2022-12-01T09:34:04.254Z"
   },
   {
    "duration": 0,
    "start_time": "2022-12-01T09:34:50.147Z"
   },
   {
    "duration": 0,
    "start_time": "2022-12-01T09:34:50.149Z"
   },
   {
    "duration": 26,
    "start_time": "2022-12-01T09:43:48.054Z"
   },
   {
    "duration": 8,
    "start_time": "2022-12-01T09:43:48.358Z"
   },
   {
    "duration": 9206,
    "start_time": "2022-12-01T09:43:56.991Z"
   },
   {
    "duration": 342,
    "start_time": "2022-12-01T09:44:06.200Z"
   },
   {
    "duration": 0,
    "start_time": "2022-12-01T09:44:06.543Z"
   },
   {
    "duration": 0,
    "start_time": "2022-12-01T09:44:06.545Z"
   },
   {
    "duration": 0,
    "start_time": "2022-12-01T09:44:06.546Z"
   },
   {
    "duration": 1105,
    "start_time": "2022-12-01T09:44:17.566Z"
   },
   {
    "duration": 12,
    "start_time": "2022-12-01T09:44:18.673Z"
   },
   {
    "duration": 5,
    "start_time": "2022-12-01T09:44:29.006Z"
   },
   {
    "duration": 5,
    "start_time": "2022-12-01T09:44:29.230Z"
   },
   {
    "duration": 3,
    "start_time": "2022-12-01T12:22:15.822Z"
   },
   {
    "duration": 45,
    "start_time": "2022-12-01T17:57:13.107Z"
   },
   {
    "duration": 2363,
    "start_time": "2022-12-01T17:57:21.566Z"
   },
   {
    "duration": 11094,
    "start_time": "2022-12-01T17:57:23.932Z"
   },
   {
    "duration": 4404,
    "start_time": "2022-12-01T17:57:35.028Z"
   },
   {
    "duration": 1092,
    "start_time": "2022-12-01T17:57:39.434Z"
   },
   {
    "duration": 11,
    "start_time": "2022-12-01T17:57:40.528Z"
   },
   {
    "duration": 327,
    "start_time": "2022-12-01T18:06:11.552Z"
   },
   {
    "duration": 29,
    "start_time": "2022-12-01T18:06:28.896Z"
   },
   {
    "duration": 6,
    "start_time": "2022-12-01T18:13:11.017Z"
   },
   {
    "duration": 20,
    "start_time": "2022-12-01T18:14:17.158Z"
   },
   {
    "duration": 22,
    "start_time": "2022-12-01T18:14:21.743Z"
   },
   {
    "duration": 0,
    "start_time": "2022-12-01T18:15:09.924Z"
   },
   {
    "duration": 0,
    "start_time": "2022-12-01T18:15:09.925Z"
   },
   {
    "duration": 6,
    "start_time": "2022-12-01T18:15:12.291Z"
   },
   {
    "duration": 0,
    "start_time": "2022-12-01T18:17:40.096Z"
   },
   {
    "duration": 23350,
    "start_time": "2022-12-01T18:17:44.156Z"
   },
   {
    "duration": 43,
    "start_time": "2022-12-01T18:18:09.317Z"
   },
   {
    "duration": 64,
    "start_time": "2022-12-01T18:18:23.807Z"
   },
   {
    "duration": 0,
    "start_time": "2022-12-01T18:21:01.045Z"
   },
   {
    "duration": 167229,
    "start_time": "2022-12-01T18:21:06.272Z"
   },
   {
    "duration": 0,
    "start_time": "2022-12-01T18:23:53.503Z"
   },
   {
    "duration": 6,
    "start_time": "2022-12-01T18:45:30.653Z"
   },
   {
    "duration": 108221,
    "start_time": "2022-12-01T18:45:32.767Z"
   },
   {
    "duration": 0,
    "start_time": "2022-12-01T18:47:20.991Z"
   },
   {
    "duration": 835,
    "start_time": "2022-12-01T18:47:25.886Z"
   },
   {
    "duration": 8,
    "start_time": "2022-12-01T18:47:33.601Z"
   },
   {
    "duration": 11,
    "start_time": "2022-12-01T18:47:34.548Z"
   },
   {
    "duration": 4,
    "start_time": "2022-12-01T18:47:35.348Z"
   },
   {
    "duration": 7,
    "start_time": "2022-12-01T18:47:53.213Z"
   },
   {
    "duration": 152,
    "start_time": "2022-12-01T18:59:16.313Z"
   },
   {
    "duration": 3,
    "start_time": "2022-12-01T18:59:17.039Z"
   },
   {
    "duration": 32,
    "start_time": "2022-12-01T18:59:17.999Z"
   },
   {
    "duration": 3,
    "start_time": "2022-12-01T18:59:18.201Z"
   },
   {
    "duration": 1239,
    "start_time": "2022-12-01T18:59:24.679Z"
   },
   {
    "duration": 30004,
    "start_time": "2022-12-01T18:59:28.615Z"
   },
   {
    "duration": 8,
    "start_time": "2022-12-01T18:59:58.621Z"
   },
   {
    "duration": 40,
    "start_time": "2022-12-01T18:59:58.630Z"
   },
   {
    "duration": 4,
    "start_time": "2022-12-01T18:59:58.672Z"
   },
   {
    "duration": 6,
    "start_time": "2022-12-01T18:59:58.677Z"
   },
   {
    "duration": 47,
    "start_time": "2022-12-01T18:59:58.684Z"
   },
   {
    "duration": 3,
    "start_time": "2022-12-01T19:02:04.559Z"
   },
   {
    "duration": 6348,
    "start_time": "2022-12-01T19:02:04.991Z"
   },
   {
    "duration": 3,
    "start_time": "2022-12-01T19:02:11.341Z"
   },
   {
    "duration": 2,
    "start_time": "2022-12-01T19:02:17.914Z"
   },
   {
    "duration": 3,
    "start_time": "2022-12-01T19:02:18.434Z"
   },
   {
    "duration": 17,
    "start_time": "2022-12-01T19:02:20.188Z"
   },
   {
    "duration": 17,
    "start_time": "2022-12-01T19:02:20.805Z"
   },
   {
    "duration": 3,
    "start_time": "2022-12-01T19:02:43.542Z"
   },
   {
    "duration": 7127,
    "start_time": "2022-12-01T19:02:43.921Z"
   },
   {
    "duration": 16,
    "start_time": "2022-12-01T19:02:51.052Z"
   },
   {
    "duration": 7567,
    "start_time": "2022-12-01T19:02:51.070Z"
   },
   {
    "duration": 4,
    "start_time": "2022-12-01T19:02:58.639Z"
   },
   {
    "duration": 2,
    "start_time": "2022-12-01T19:03:37.039Z"
   },
   {
    "duration": 3,
    "start_time": "2022-12-01T19:03:37.445Z"
   },
   {
    "duration": 774,
    "start_time": "2022-12-01T19:23:38.210Z"
   },
   {
    "duration": 13,
    "start_time": "2022-12-01T19:23:38.986Z"
   },
   {
    "duration": 54,
    "start_time": "2022-12-01T19:23:39.001Z"
   },
   {
    "duration": 4,
    "start_time": "2022-12-01T19:23:39.184Z"
   },
   {
    "duration": 6,
    "start_time": "2022-12-01T19:23:39.916Z"
   },
   {
    "duration": 4,
    "start_time": "2022-12-01T19:23:40.655Z"
   },
   {
    "duration": 2,
    "start_time": "2022-12-01T19:23:41.716Z"
   },
   {
    "duration": 32,
    "start_time": "2022-12-01T19:23:42.643Z"
   },
   {
    "duration": 3,
    "start_time": "2022-12-01T19:23:42.951Z"
   },
   {
    "duration": 4,
    "start_time": "2022-12-01T19:23:45.658Z"
   },
   {
    "duration": 32515,
    "start_time": "2022-12-01T19:23:47.693Z"
   },
   {
    "duration": 7,
    "start_time": "2022-12-01T19:24:50.001Z"
   },
   {
    "duration": 36,
    "start_time": "2022-12-01T19:24:52.408Z"
   },
   {
    "duration": 4,
    "start_time": "2022-12-01T19:24:52.614Z"
   },
   {
    "duration": 4,
    "start_time": "2022-12-01T19:24:52.864Z"
   },
   {
    "duration": 45,
    "start_time": "2022-12-01T19:24:53.149Z"
   },
   {
    "duration": 5,
    "start_time": "2022-12-01T19:24:53.655Z"
   },
   {
    "duration": 18,
    "start_time": "2022-12-01T19:24:54.854Z"
   },
   {
    "duration": 6596,
    "start_time": "2022-12-01T19:24:55.113Z"
   },
   {
    "duration": 18,
    "start_time": "2022-12-01T19:25:01.711Z"
   },
   {
    "duration": 6569,
    "start_time": "2022-12-01T19:25:01.731Z"
   },
   {
    "duration": 4,
    "start_time": "2022-12-01T19:25:08.302Z"
   },
   {
    "duration": 8,
    "start_time": "2022-12-01T19:25:08.307Z"
   },
   {
    "duration": 5,
    "start_time": "2022-12-01T19:25:08.317Z"
   },
   {
    "duration": 7731,
    "start_time": "2022-12-02T09:05:40.324Z"
   },
   {
    "duration": 3789,
    "start_time": "2022-12-02T09:05:50.651Z"
   },
   {
    "duration": 11,
    "start_time": "2022-12-02T09:05:54.442Z"
   },
   {
    "duration": 25,
    "start_time": "2022-12-02T09:05:54.454Z"
   },
   {
    "duration": 8,
    "start_time": "2022-12-02T09:05:54.482Z"
   },
   {
    "duration": 13,
    "start_time": "2022-12-02T09:05:54.492Z"
   },
   {
    "duration": 231,
    "start_time": "2022-12-02T09:05:54.506Z"
   },
   {
    "duration": 3,
    "start_time": "2022-12-02T09:05:55.675Z"
   },
   {
    "duration": 30,
    "start_time": "2022-12-02T09:05:56.666Z"
   },
   {
    "duration": 4,
    "start_time": "2022-12-02T09:05:56.803Z"
   },
   {
    "duration": 1251,
    "start_time": "2022-12-02T09:05:59.746Z"
   },
   {
    "duration": 31932,
    "start_time": "2022-12-02T09:06:07.025Z"
   },
   {
    "duration": 7,
    "start_time": "2022-12-02T09:06:48.131Z"
   },
   {
    "duration": 35,
    "start_time": "2022-12-02T09:06:49.154Z"
   },
   {
    "duration": 4,
    "start_time": "2022-12-02T09:06:49.353Z"
   },
   {
    "duration": 4,
    "start_time": "2022-12-02T09:06:49.793Z"
   },
   {
    "duration": 42,
    "start_time": "2022-12-02T09:06:50.241Z"
   },
   {
    "duration": 5,
    "start_time": "2022-12-02T09:06:51.137Z"
   },
   {
    "duration": 3,
    "start_time": "2022-12-02T09:06:53.473Z"
   },
   {
    "duration": 103,
    "start_time": "2022-12-02T09:06:54.146Z"
   },
   {
    "duration": 313,
    "start_time": "2022-12-02T09:06:55.241Z"
   },
   {
    "duration": 4,
    "start_time": "2022-12-02T09:07:07.626Z"
   },
   {
    "duration": 4,
    "start_time": "2022-12-02T09:07:12.874Z"
   },
   {
    "duration": 125,
    "start_time": "2022-12-02T09:07:28.617Z"
   },
   {
    "duration": 123,
    "start_time": "2022-12-02T09:07:36.217Z"
   },
   {
    "duration": 2,
    "start_time": "2022-12-02T09:23:45.981Z"
   },
   {
    "duration": 6665,
    "start_time": "2022-12-02T09:23:46.548Z"
   },
   {
    "duration": 6,
    "start_time": "2022-12-02T09:23:56.380Z"
   },
   {
    "duration": 6832,
    "start_time": "2022-12-02T09:23:57.732Z"
   },
   {
    "duration": 3,
    "start_time": "2022-12-02T09:24:04.566Z"
   },
   {
    "duration": 7502,
    "start_time": "2022-12-02T09:24:13.092Z"
   },
   {
    "duration": 4,
    "start_time": "2022-12-02T09:24:20.596Z"
   },
   {
    "duration": 3,
    "start_time": "2022-12-02T09:25:03.652Z"
   },
   {
    "duration": 3,
    "start_time": "2022-12-02T09:25:04.348Z"
   },
   {
    "duration": 2,
    "start_time": "2022-12-02T09:25:24.615Z"
   },
   {
    "duration": 182159,
    "start_time": "2022-12-02T09:25:26.723Z"
   },
   {
    "duration": 4,
    "start_time": "2022-12-02T09:28:28.885Z"
   },
   {
    "duration": 35,
    "start_time": "2022-12-02T09:28:28.979Z"
   },
   {
    "duration": 3,
    "start_time": "2022-12-02T09:31:11.696Z"
   },
   {
    "duration": 85224,
    "start_time": "2022-12-02T09:31:20.521Z"
   },
   {
    "duration": 0,
    "start_time": "2022-12-02T09:32:45.747Z"
   },
   {
    "duration": 0,
    "start_time": "2022-12-02T09:32:45.749Z"
   },
   {
    "duration": 3,
    "start_time": "2022-12-02T12:27:25.790Z"
   }
  ],
  "kernelspec": {
   "display_name": "Python 3 (ipykernel)",
   "language": "python",
   "name": "python3"
  },
  "language_info": {
   "codemirror_mode": {
    "name": "ipython",
    "version": 3
   },
   "file_extension": ".py",
   "mimetype": "text/x-python",
   "name": "python",
   "nbconvert_exporter": "python",
   "pygments_lexer": "ipython3",
   "version": "3.9.5"
  },
  "toc": {
   "base_numbering": 1,
   "nav_menu": {},
   "number_sections": true,
   "sideBar": true,
   "skip_h1_title": true,
   "title_cell": "Table of Contents",
   "title_sidebar": "Contents",
   "toc_cell": false,
   "toc_position": {},
   "toc_section_display": true,
   "toc_window_display": false
  }
 },
 "nbformat": 4,
 "nbformat_minor": 5
}
